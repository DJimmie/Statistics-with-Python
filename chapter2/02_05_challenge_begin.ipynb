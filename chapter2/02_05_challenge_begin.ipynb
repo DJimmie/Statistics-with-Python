{
 "cells": [
  {
   "cell_type": "markdown",
   "metadata": {},
   "source": [
    "# Python statistics essential training - 02_05_challenge"
   ]
  },
  {
   "cell_type": "markdown",
   "metadata": {},
   "source": [
    "# Standard imports"
   ]
  },
  {
   "cell_type": "code",
   "execution_count": 1,
   "metadata": {
    "ExecuteTime": {
     "end_time": "2020-04-05T19:16:56.332124Z",
     "start_time": "2020-04-05T19:16:55.122055Z"
    },
    "collapsed": true
   },
   "outputs": [],
   "source": [
    "import numpy as np\n",
    "import pandas as pd\n",
    "\n",
    "import matplotlib\n",
    "import matplotlib.pyplot as pp\n",
    "\n",
    "%matplotlib inline"
   ]
  },
  {
   "cell_type": "markdown",
   "metadata": {},
   "source": [
    "# Functions"
   ]
  },
  {
   "cell_type": "code",
   "execution_count": 2,
   "metadata": {
    "ExecuteTime": {
     "end_time": "2020-04-05T19:16:56.397128Z",
     "start_time": "2020-04-05T19:16:56.336125Z"
    }
   },
   "outputs": [],
   "source": [
    "def mapAges(x):\n",
    "    \"\"\"map the age columns from the xx or xxx or xxxx format to x-x, x-xx, or xx-xx format\"\"\"\n",
    "    \n",
    "    keys=list(x.unique())\n",
    "    age_dict={}\n",
    "#     print (keys)\n",
    "    \n",
    "    for i,s in enumerate(keys):\n",
    "        \n",
    "        l=len(s)\n",
    "        ss=l==2 and s=='65'\n",
    "    #     print(ss)\n",
    "\n",
    "        if ss==True:\n",
    "            age_range='65'\n",
    "            age_dict[s]=age_range\n",
    "            continue\n",
    "        if (l==2):\n",
    "            age_range=f'{s[0]}-{s[1:]}'\n",
    "        elif (l==3):\n",
    "            age_range=f'{s[0]}-{s[1:]}'\n",
    "        elif (l==4):\n",
    "            age_range=f'{s[0:2]}-{s[2:]}'\n",
    "    \n",
    "#         print(age_range)\n",
    "        age_dict[s]=age_range\n",
    "        \n",
    "    return age_dict\n",
    "        "
   ]
  },
  {
   "cell_type": "markdown",
   "metadata": {},
   "source": [
    "# Get Data"
   ]
  },
  {
   "cell_type": "code",
   "execution_count": 3,
   "metadata": {
    "ExecuteTime": {
     "end_time": "2020-04-05T19:16:56.561138Z",
     "start_time": "2020-04-05T19:16:56.401128Z"
    }
   },
   "outputs": [
    {
     "data": {
      "text/html": [
       "<div>\n",
       "<style scoped>\n",
       "    .dataframe tbody tr th:only-of-type {\n",
       "        vertical-align: middle;\n",
       "    }\n",
       "\n",
       "    .dataframe tbody tr th {\n",
       "        vertical-align: top;\n",
       "    }\n",
       "\n",
       "    .dataframe thead th {\n",
       "        text-align: right;\n",
       "    }\n",
       "</style>\n",
       "<table border=\"1\" class=\"dataframe\">\n",
       "  <thead>\n",
       "    <tr style=\"text-align: right;\">\n",
       "      <th></th>\n",
       "      <th>country</th>\n",
       "      <th>year</th>\n",
       "      <th>m04</th>\n",
       "      <th>m514</th>\n",
       "      <th>m014</th>\n",
       "      <th>m1524</th>\n",
       "      <th>m2534</th>\n",
       "      <th>m3544</th>\n",
       "      <th>m4554</th>\n",
       "      <th>m5564</th>\n",
       "      <th>...</th>\n",
       "      <th>f04</th>\n",
       "      <th>f514</th>\n",
       "      <th>f014</th>\n",
       "      <th>f1524</th>\n",
       "      <th>f2534</th>\n",
       "      <th>f3544</th>\n",
       "      <th>f4554</th>\n",
       "      <th>f5564</th>\n",
       "      <th>f65</th>\n",
       "      <th>fu</th>\n",
       "    </tr>\n",
       "  </thead>\n",
       "  <tbody>\n",
       "    <tr>\n",
       "      <th>0</th>\n",
       "      <td>AD</td>\n",
       "      <td>1989</td>\n",
       "      <td>NaN</td>\n",
       "      <td>NaN</td>\n",
       "      <td>NaN</td>\n",
       "      <td>NaN</td>\n",
       "      <td>NaN</td>\n",
       "      <td>NaN</td>\n",
       "      <td>NaN</td>\n",
       "      <td>NaN</td>\n",
       "      <td>...</td>\n",
       "      <td>NaN</td>\n",
       "      <td>NaN</td>\n",
       "      <td>NaN</td>\n",
       "      <td>NaN</td>\n",
       "      <td>NaN</td>\n",
       "      <td>NaN</td>\n",
       "      <td>NaN</td>\n",
       "      <td>NaN</td>\n",
       "      <td>NaN</td>\n",
       "      <td>NaN</td>\n",
       "    </tr>\n",
       "    <tr>\n",
       "      <th>1</th>\n",
       "      <td>AD</td>\n",
       "      <td>1990</td>\n",
       "      <td>NaN</td>\n",
       "      <td>NaN</td>\n",
       "      <td>NaN</td>\n",
       "      <td>NaN</td>\n",
       "      <td>NaN</td>\n",
       "      <td>NaN</td>\n",
       "      <td>NaN</td>\n",
       "      <td>NaN</td>\n",
       "      <td>...</td>\n",
       "      <td>NaN</td>\n",
       "      <td>NaN</td>\n",
       "      <td>NaN</td>\n",
       "      <td>NaN</td>\n",
       "      <td>NaN</td>\n",
       "      <td>NaN</td>\n",
       "      <td>NaN</td>\n",
       "      <td>NaN</td>\n",
       "      <td>NaN</td>\n",
       "      <td>NaN</td>\n",
       "    </tr>\n",
       "    <tr>\n",
       "      <th>2</th>\n",
       "      <td>AD</td>\n",
       "      <td>1991</td>\n",
       "      <td>NaN</td>\n",
       "      <td>NaN</td>\n",
       "      <td>NaN</td>\n",
       "      <td>NaN</td>\n",
       "      <td>NaN</td>\n",
       "      <td>NaN</td>\n",
       "      <td>NaN</td>\n",
       "      <td>NaN</td>\n",
       "      <td>...</td>\n",
       "      <td>NaN</td>\n",
       "      <td>NaN</td>\n",
       "      <td>NaN</td>\n",
       "      <td>NaN</td>\n",
       "      <td>NaN</td>\n",
       "      <td>NaN</td>\n",
       "      <td>NaN</td>\n",
       "      <td>NaN</td>\n",
       "      <td>NaN</td>\n",
       "      <td>NaN</td>\n",
       "    </tr>\n",
       "    <tr>\n",
       "      <th>3</th>\n",
       "      <td>AD</td>\n",
       "      <td>1992</td>\n",
       "      <td>NaN</td>\n",
       "      <td>NaN</td>\n",
       "      <td>NaN</td>\n",
       "      <td>NaN</td>\n",
       "      <td>NaN</td>\n",
       "      <td>NaN</td>\n",
       "      <td>NaN</td>\n",
       "      <td>NaN</td>\n",
       "      <td>...</td>\n",
       "      <td>NaN</td>\n",
       "      <td>NaN</td>\n",
       "      <td>NaN</td>\n",
       "      <td>NaN</td>\n",
       "      <td>NaN</td>\n",
       "      <td>NaN</td>\n",
       "      <td>NaN</td>\n",
       "      <td>NaN</td>\n",
       "      <td>NaN</td>\n",
       "      <td>NaN</td>\n",
       "    </tr>\n",
       "    <tr>\n",
       "      <th>4</th>\n",
       "      <td>AD</td>\n",
       "      <td>1993</td>\n",
       "      <td>NaN</td>\n",
       "      <td>NaN</td>\n",
       "      <td>NaN</td>\n",
       "      <td>NaN</td>\n",
       "      <td>NaN</td>\n",
       "      <td>NaN</td>\n",
       "      <td>NaN</td>\n",
       "      <td>NaN</td>\n",
       "      <td>...</td>\n",
       "      <td>NaN</td>\n",
       "      <td>NaN</td>\n",
       "      <td>NaN</td>\n",
       "      <td>NaN</td>\n",
       "      <td>NaN</td>\n",
       "      <td>NaN</td>\n",
       "      <td>NaN</td>\n",
       "      <td>NaN</td>\n",
       "      <td>NaN</td>\n",
       "      <td>NaN</td>\n",
       "    </tr>\n",
       "  </tbody>\n",
       "</table>\n",
       "<p>5 rows × 22 columns</p>\n",
       "</div>"
      ],
      "text/plain": [
       "  country  year  m04  m514  m014  m1524  m2534  m3544  m4554  m5564  ...  f04  \\\n",
       "0      AD  1989  NaN   NaN   NaN    NaN    NaN    NaN    NaN    NaN  ...  NaN   \n",
       "1      AD  1990  NaN   NaN   NaN    NaN    NaN    NaN    NaN    NaN  ...  NaN   \n",
       "2      AD  1991  NaN   NaN   NaN    NaN    NaN    NaN    NaN    NaN  ...  NaN   \n",
       "3      AD  1992  NaN   NaN   NaN    NaN    NaN    NaN    NaN    NaN  ...  NaN   \n",
       "4      AD  1993  NaN   NaN   NaN    NaN    NaN    NaN    NaN    NaN  ...  NaN   \n",
       "\n",
       "   f514  f014  f1524  f2534  f3544  f4554  f5564  f65  fu  \n",
       "0   NaN   NaN    NaN    NaN    NaN    NaN    NaN  NaN NaN  \n",
       "1   NaN   NaN    NaN    NaN    NaN    NaN    NaN  NaN NaN  \n",
       "2   NaN   NaN    NaN    NaN    NaN    NaN    NaN  NaN NaN  \n",
       "3   NaN   NaN    NaN    NaN    NaN    NaN    NaN  NaN NaN  \n",
       "4   NaN   NaN    NaN    NaN    NaN    NaN    NaN  NaN NaN  \n",
       "\n",
       "[5 rows x 22 columns]"
      ]
     },
     "execution_count": 3,
     "metadata": {},
     "output_type": "execute_result"
    }
   ],
   "source": [
    "tb=pd.read_csv('tb.csv')\n",
    "tb.head()"
   ]
  },
  {
   "cell_type": "code",
   "execution_count": 4,
   "metadata": {
    "ExecuteTime": {
     "end_time": "2020-04-05T19:16:56.594139Z",
     "start_time": "2020-04-05T19:16:56.565138Z"
    }
   },
   "outputs": [
    {
     "name": "stdout",
     "output_type": "stream",
     "text": [
      "<class 'pandas.core.frame.DataFrame'>\n",
      "RangeIndex: 5769 entries, 0 to 5768\n",
      "Data columns (total 22 columns):\n",
      "country    5746 non-null object\n",
      "year       5769 non-null int64\n",
      "m04        392 non-null float64\n",
      "m514       401 non-null float64\n",
      "m014       2381 non-null float64\n",
      "m1524      2407 non-null float64\n",
      "m2534      2408 non-null float64\n",
      "m3544      2415 non-null float64\n",
      "m4554      2421 non-null float64\n",
      "m5564      2414 non-null float64\n",
      "m65        2408 non-null float64\n",
      "mu         273 non-null float64\n",
      "f04        393 non-null float64\n",
      "f514       404 non-null float64\n",
      "f014       2378 non-null float64\n",
      "f1524      2394 non-null float64\n",
      "f2534      2400 non-null float64\n",
      "f3544      2398 non-null float64\n",
      "f4554      2401 non-null float64\n",
      "f5564      2394 non-null float64\n",
      "f65        2396 non-null float64\n",
      "fu         272 non-null float64\n",
      "dtypes: float64(20), int64(1), object(1)\n",
      "memory usage: 991.6+ KB\n"
     ]
    }
   ],
   "source": [
    "tb.info()"
   ]
  },
  {
   "cell_type": "code",
   "execution_count": 5,
   "metadata": {
    "ExecuteTime": {
     "end_time": "2020-04-05T19:16:56.608140Z",
     "start_time": "2020-04-05T19:16:56.598140Z"
    }
   },
   "outputs": [
    {
     "data": {
      "text/plain": [
       "Index(['country', 'year', 'm04', 'm514', 'm014', 'm1524', 'm2534', 'm3544',\n",
       "       'm4554', 'm5564', 'm65', 'mu', 'f04', 'f514', 'f014', 'f1524', 'f2534',\n",
       "       'f3544', 'f4554', 'f5564', 'f65', 'fu'],\n",
       "      dtype='object')"
      ]
     },
     "execution_count": 5,
     "metadata": {},
     "output_type": "execute_result"
    }
   ],
   "source": [
    "tb.columns"
   ]
  },
  {
   "cell_type": "markdown",
   "metadata": {},
   "source": [
    "## Replace NaN with 0.0"
   ]
  },
  {
   "cell_type": "code",
   "execution_count": null,
   "metadata": {
    "deletable": false,
    "editable": false,
    "run_control": {
     "frozen": true
    }
   },
   "outputs": [],
   "source": [
    "tb.replace(np.nan,0.0,inplace=True)\n",
    "tb.head()"
   ]
  },
  {
   "cell_type": "code",
   "execution_count": 6,
   "metadata": {
    "ExecuteTime": {
     "end_time": "2020-04-05T19:16:56.669144Z",
     "start_time": "2020-04-05T19:16:56.612140Z"
    }
   },
   "outputs": [
    {
     "data": {
      "text/html": [
       "<div>\n",
       "<style scoped>\n",
       "    .dataframe tbody tr th:only-of-type {\n",
       "        vertical-align: middle;\n",
       "    }\n",
       "\n",
       "    .dataframe tbody tr th {\n",
       "        vertical-align: top;\n",
       "    }\n",
       "\n",
       "    .dataframe thead th {\n",
       "        text-align: right;\n",
       "    }\n",
       "</style>\n",
       "<table border=\"1\" class=\"dataframe\">\n",
       "  <thead>\n",
       "    <tr style=\"text-align: right;\">\n",
       "      <th></th>\n",
       "      <th>country</th>\n",
       "      <th>year</th>\n",
       "      <th>m04</th>\n",
       "      <th>m514</th>\n",
       "      <th>m014</th>\n",
       "      <th>m1524</th>\n",
       "      <th>m2534</th>\n",
       "      <th>m3544</th>\n",
       "      <th>m4554</th>\n",
       "      <th>m5564</th>\n",
       "      <th>...</th>\n",
       "      <th>f04</th>\n",
       "      <th>f514</th>\n",
       "      <th>f014</th>\n",
       "      <th>f1524</th>\n",
       "      <th>f2534</th>\n",
       "      <th>f3544</th>\n",
       "      <th>f4554</th>\n",
       "      <th>f5564</th>\n",
       "      <th>f65</th>\n",
       "      <th>fu</th>\n",
       "    </tr>\n",
       "  </thead>\n",
       "  <tbody>\n",
       "    <tr>\n",
       "      <th>15</th>\n",
       "      <td>AD</td>\n",
       "      <td>2005</td>\n",
       "      <td>0.0</td>\n",
       "      <td>0.0</td>\n",
       "      <td>0.0</td>\n",
       "      <td>0.0</td>\n",
       "      <td>1.0</td>\n",
       "      <td>1.0</td>\n",
       "      <td>0.0</td>\n",
       "      <td>0.0</td>\n",
       "      <td>...</td>\n",
       "      <td>0.0</td>\n",
       "      <td>0.0</td>\n",
       "      <td>0.0</td>\n",
       "      <td>1.0</td>\n",
       "      <td>1.0</td>\n",
       "      <td>1.0</td>\n",
       "      <td>0.0</td>\n",
       "      <td>0.0</td>\n",
       "      <td>0.0</td>\n",
       "      <td>0.0</td>\n",
       "    </tr>\n",
       "    <tr>\n",
       "      <th>16</th>\n",
       "      <td>AD</td>\n",
       "      <td>2006</td>\n",
       "      <td>0.0</td>\n",
       "      <td>0.0</td>\n",
       "      <td>0.0</td>\n",
       "      <td>1.0</td>\n",
       "      <td>1.0</td>\n",
       "      <td>2.0</td>\n",
       "      <td>0.0</td>\n",
       "      <td>1.0</td>\n",
       "      <td>...</td>\n",
       "      <td>0.0</td>\n",
       "      <td>0.0</td>\n",
       "      <td>0.0</td>\n",
       "      <td>0.0</td>\n",
       "      <td>1.0</td>\n",
       "      <td>0.0</td>\n",
       "      <td>1.0</td>\n",
       "      <td>0.0</td>\n",
       "      <td>0.0</td>\n",
       "      <td>0.0</td>\n",
       "    </tr>\n",
       "    <tr>\n",
       "      <th>18</th>\n",
       "      <td>AD</td>\n",
       "      <td>2008</td>\n",
       "      <td>0.0</td>\n",
       "      <td>0.0</td>\n",
       "      <td>0.0</td>\n",
       "      <td>0.0</td>\n",
       "      <td>0.0</td>\n",
       "      <td>0.0</td>\n",
       "      <td>1.0</td>\n",
       "      <td>0.0</td>\n",
       "      <td>...</td>\n",
       "      <td>0.0</td>\n",
       "      <td>0.0</td>\n",
       "      <td>0.0</td>\n",
       "      <td>0.0</td>\n",
       "      <td>0.0</td>\n",
       "      <td>1.0</td>\n",
       "      <td>1.0</td>\n",
       "      <td>0.0</td>\n",
       "      <td>0.0</td>\n",
       "      <td>0.0</td>\n",
       "    </tr>\n",
       "    <tr>\n",
       "      <th>44</th>\n",
       "      <td>AE</td>\n",
       "      <td>2008</td>\n",
       "      <td>0.0</td>\n",
       "      <td>0.0</td>\n",
       "      <td>0.0</td>\n",
       "      <td>6.0</td>\n",
       "      <td>1.0</td>\n",
       "      <td>7.0</td>\n",
       "      <td>5.0</td>\n",
       "      <td>3.0</td>\n",
       "      <td>...</td>\n",
       "      <td>0.0</td>\n",
       "      <td>0.0</td>\n",
       "      <td>0.0</td>\n",
       "      <td>10.0</td>\n",
       "      <td>4.0</td>\n",
       "      <td>1.0</td>\n",
       "      <td>1.0</td>\n",
       "      <td>3.0</td>\n",
       "      <td>3.0</td>\n",
       "      <td>0.0</td>\n",
       "    </tr>\n",
       "    <tr>\n",
       "      <th>141</th>\n",
       "      <td>AL</td>\n",
       "      <td>2005</td>\n",
       "      <td>0.0</td>\n",
       "      <td>0.0</td>\n",
       "      <td>0.0</td>\n",
       "      <td>26.0</td>\n",
       "      <td>21.0</td>\n",
       "      <td>16.0</td>\n",
       "      <td>31.0</td>\n",
       "      <td>20.0</td>\n",
       "      <td>...</td>\n",
       "      <td>0.0</td>\n",
       "      <td>0.0</td>\n",
       "      <td>0.0</td>\n",
       "      <td>3.0</td>\n",
       "      <td>9.0</td>\n",
       "      <td>5.0</td>\n",
       "      <td>5.0</td>\n",
       "      <td>5.0</td>\n",
       "      <td>18.0</td>\n",
       "      <td>0.0</td>\n",
       "    </tr>\n",
       "  </tbody>\n",
       "</table>\n",
       "<p>5 rows × 22 columns</p>\n",
       "</div>"
      ],
      "text/plain": [
       "    country  year  m04  m514  m014  m1524  m2534  m3544  m4554  m5564  ...  \\\n",
       "15       AD  2005  0.0   0.0   0.0    0.0    1.0    1.0    0.0    0.0  ...   \n",
       "16       AD  2006  0.0   0.0   0.0    1.0    1.0    2.0    0.0    1.0  ...   \n",
       "18       AD  2008  0.0   0.0   0.0    0.0    0.0    0.0    1.0    0.0  ...   \n",
       "44       AE  2008  0.0   0.0   0.0    6.0    1.0    7.0    5.0    3.0  ...   \n",
       "141      AL  2005  0.0   0.0   0.0   26.0   21.0   16.0   31.0   20.0  ...   \n",
       "\n",
       "     f04  f514  f014  f1524  f2534  f3544  f4554  f5564   f65   fu  \n",
       "15   0.0   0.0   0.0    1.0    1.0    1.0    0.0    0.0   0.0  0.0  \n",
       "16   0.0   0.0   0.0    0.0    1.0    0.0    1.0    0.0   0.0  0.0  \n",
       "18   0.0   0.0   0.0    0.0    0.0    1.0    1.0    0.0   0.0  0.0  \n",
       "44   0.0   0.0   0.0   10.0    4.0    1.0    1.0    3.0   3.0  0.0  \n",
       "141  0.0   0.0   0.0    3.0    9.0    5.0    5.0    5.0  18.0  0.0  \n",
       "\n",
       "[5 rows x 22 columns]"
      ]
     },
     "execution_count": 6,
     "metadata": {},
     "output_type": "execute_result"
    }
   ],
   "source": [
    "tb.dropna(axis=0,inplace=True)\n",
    "tb.head()"
   ]
  },
  {
   "cell_type": "code",
   "execution_count": 7,
   "metadata": {
    "ExecuteTime": {
     "end_time": "2020-04-05T19:16:56.692145Z",
     "start_time": "2020-04-05T19:16:56.673144Z"
    },
    "scrolled": false
   },
   "outputs": [
    {
     "name": "stdout",
     "output_type": "stream",
     "text": [
      "<class 'pandas.core.frame.DataFrame'>\n",
      "Int64Index: 241 entries, 15 to 5712\n",
      "Data columns (total 22 columns):\n",
      "country    241 non-null object\n",
      "year       241 non-null int64\n",
      "m04        241 non-null float64\n",
      "m514       241 non-null float64\n",
      "m014       241 non-null float64\n",
      "m1524      241 non-null float64\n",
      "m2534      241 non-null float64\n",
      "m3544      241 non-null float64\n",
      "m4554      241 non-null float64\n",
      "m5564      241 non-null float64\n",
      "m65        241 non-null float64\n",
      "mu         241 non-null float64\n",
      "f04        241 non-null float64\n",
      "f514       241 non-null float64\n",
      "f014       241 non-null float64\n",
      "f1524      241 non-null float64\n",
      "f2534      241 non-null float64\n",
      "f3544      241 non-null float64\n",
      "f4554      241 non-null float64\n",
      "f5564      241 non-null float64\n",
      "f65        241 non-null float64\n",
      "fu         241 non-null float64\n",
      "dtypes: float64(20), int64(1), object(1)\n",
      "memory usage: 43.3+ KB\n"
     ]
    }
   ],
   "source": [
    "tb.info()"
   ]
  },
  {
   "cell_type": "code",
   "execution_count": 8,
   "metadata": {
    "ExecuteTime": {
     "end_time": "2020-04-05T19:16:56.710146Z",
     "start_time": "2020-04-05T19:16:56.695145Z"
    }
   },
   "outputs": [
    {
     "data": {
      "text/plain": [
       "15      0.0\n",
       "16      0.0\n",
       "18      0.0\n",
       "44      0.0\n",
       "141     0.0\n",
       "142     0.0\n",
       "143     0.0\n",
       "170     0.0\n",
       "171     0.0\n",
       "172     0.0\n",
       "173     0.0\n",
       "244     8.0\n",
       "299     0.0\n",
       "300     0.0\n",
       "357     0.0\n",
       "358     0.0\n",
       "386     0.0\n",
       "387     2.0\n",
       "388     0.0\n",
       "389     0.0\n",
       "416     0.0\n",
       "471     0.0\n",
       "472     0.0\n",
       "474     0.0\n",
       "528     0.0\n",
       "531     0.0\n",
       "559     0.0\n",
       "669     0.0\n",
       "726     0.0\n",
       "754     0.0\n",
       "       ... \n",
       "4644    0.0\n",
       "4670    0.0\n",
       "4671    0.0\n",
       "4672    0.0\n",
       "4673    0.0\n",
       "4699    0.0\n",
       "4700    0.0\n",
       "4701    0.0\n",
       "4702    0.0\n",
       "4775    0.0\n",
       "4879    0.0\n",
       "4929    0.0\n",
       "5062    0.0\n",
       "5065    0.0\n",
       "5124    0.0\n",
       "5126    0.0\n",
       "5185    0.0\n",
       "5209    0.0\n",
       "5210    0.0\n",
       "5211    0.0\n",
       "5212    0.0\n",
       "5241    0.0\n",
       "5269    0.0\n",
       "5326    0.0\n",
       "5354    0.0\n",
       "5383    0.0\n",
       "5412    0.0\n",
       "5439    0.0\n",
       "5498    0.0\n",
       "5712    0.0\n",
       "Name: fu, Length: 241, dtype: float64"
      ]
     },
     "execution_count": 8,
     "metadata": {},
     "output_type": "execute_result"
    }
   ],
   "source": [
    "tb.fu"
   ]
  },
  {
   "cell_type": "markdown",
   "metadata": {},
   "source": [
    "## Melt Columns"
   ]
  },
  {
   "cell_type": "code",
   "execution_count": 9,
   "metadata": {
    "ExecuteTime": {
     "end_time": "2020-04-05T19:16:56.736148Z",
     "start_time": "2020-04-05T19:16:56.714146Z"
    },
    "collapsed": true
   },
   "outputs": [],
   "source": [
    "tb=tb.melt(id_vars=['country','year'],value_vars=['m04', 'm514', 'm014', 'm1524', 'm2534', 'm3544', 'm4554', 'm5564',\n",
    "       'm65', 'f04', 'f514', 'f014', 'f1524', 'f2534', 'f3544', 'f4554',\n",
    "       'f5564', 'f65'],\n",
    "                  var_name='sex',value_name='observations')"
   ]
  },
  {
   "cell_type": "code",
   "execution_count": 10,
   "metadata": {
    "ExecuteTime": {
     "end_time": "2020-04-05T19:16:56.791151Z",
     "start_time": "2020-04-05T19:16:56.740148Z"
    }
   },
   "outputs": [
    {
     "data": {
      "text/html": [
       "<div>\n",
       "<style scoped>\n",
       "    .dataframe tbody tr th:only-of-type {\n",
       "        vertical-align: middle;\n",
       "    }\n",
       "\n",
       "    .dataframe tbody tr th {\n",
       "        vertical-align: top;\n",
       "    }\n",
       "\n",
       "    .dataframe thead th {\n",
       "        text-align: right;\n",
       "    }\n",
       "</style>\n",
       "<table border=\"1\" class=\"dataframe\">\n",
       "  <thead>\n",
       "    <tr style=\"text-align: right;\">\n",
       "      <th></th>\n",
       "      <th>country</th>\n",
       "      <th>year</th>\n",
       "      <th>sex</th>\n",
       "      <th>observations</th>\n",
       "    </tr>\n",
       "  </thead>\n",
       "  <tbody>\n",
       "    <tr>\n",
       "      <th>0</th>\n",
       "      <td>AD</td>\n",
       "      <td>2005</td>\n",
       "      <td>m04</td>\n",
       "      <td>0.0</td>\n",
       "    </tr>\n",
       "    <tr>\n",
       "      <th>1</th>\n",
       "      <td>AD</td>\n",
       "      <td>2006</td>\n",
       "      <td>m04</td>\n",
       "      <td>0.0</td>\n",
       "    </tr>\n",
       "    <tr>\n",
       "      <th>2</th>\n",
       "      <td>AD</td>\n",
       "      <td>2008</td>\n",
       "      <td>m04</td>\n",
       "      <td>0.0</td>\n",
       "    </tr>\n",
       "    <tr>\n",
       "      <th>3</th>\n",
       "      <td>AE</td>\n",
       "      <td>2008</td>\n",
       "      <td>m04</td>\n",
       "      <td>0.0</td>\n",
       "    </tr>\n",
       "    <tr>\n",
       "      <th>4</th>\n",
       "      <td>AL</td>\n",
       "      <td>2005</td>\n",
       "      <td>m04</td>\n",
       "      <td>0.0</td>\n",
       "    </tr>\n",
       "  </tbody>\n",
       "</table>\n",
       "</div>"
      ],
      "text/plain": [
       "  country  year  sex  observations\n",
       "0      AD  2005  m04           0.0\n",
       "1      AD  2006  m04           0.0\n",
       "2      AD  2008  m04           0.0\n",
       "3      AE  2008  m04           0.0\n",
       "4      AL  2005  m04           0.0"
      ]
     },
     "execution_count": 10,
     "metadata": {},
     "output_type": "execute_result"
    }
   ],
   "source": [
    "tb.head()"
   ]
  },
  {
   "cell_type": "code",
   "execution_count": 11,
   "metadata": {
    "ExecuteTime": {
     "end_time": "2020-04-05T19:16:56.827153Z",
     "start_time": "2020-04-05T19:16:56.798151Z"
    }
   },
   "outputs": [
    {
     "name": "stdout",
     "output_type": "stream",
     "text": [
      "<class 'pandas.core.frame.DataFrame'>\n",
      "RangeIndex: 4338 entries, 0 to 4337\n",
      "Data columns (total 4 columns):\n",
      "country         4338 non-null object\n",
      "year            4338 non-null int64\n",
      "sex             4338 non-null object\n",
      "observations    4338 non-null float64\n",
      "dtypes: float64(1), int64(1), object(2)\n",
      "memory usage: 135.6+ KB\n"
     ]
    }
   ],
   "source": [
    "tb.info()"
   ]
  },
  {
   "cell_type": "code",
   "execution_count": null,
   "metadata": {
    "collapsed": true
   },
   "outputs": [],
   "source": []
  },
  {
   "cell_type": "code",
   "execution_count": 12,
   "metadata": {
    "ExecuteTime": {
     "end_time": "2020-04-05T19:16:56.848154Z",
     "start_time": "2020-04-05T19:16:56.835153Z"
    }
   },
   "outputs": [],
   "source": [
    "tb['age']=tb['sex'].str.slice(1)"
   ]
  },
  {
   "cell_type": "code",
   "execution_count": 13,
   "metadata": {
    "ExecuteTime": {
     "end_time": "2020-04-05T19:16:56.875156Z",
     "start_time": "2020-04-05T19:16:56.852154Z"
    }
   },
   "outputs": [
    {
     "data": {
      "text/html": [
       "<div>\n",
       "<style scoped>\n",
       "    .dataframe tbody tr th:only-of-type {\n",
       "        vertical-align: middle;\n",
       "    }\n",
       "\n",
       "    .dataframe tbody tr th {\n",
       "        vertical-align: top;\n",
       "    }\n",
       "\n",
       "    .dataframe thead th {\n",
       "        text-align: right;\n",
       "    }\n",
       "</style>\n",
       "<table border=\"1\" class=\"dataframe\">\n",
       "  <thead>\n",
       "    <tr style=\"text-align: right;\">\n",
       "      <th></th>\n",
       "      <th>country</th>\n",
       "      <th>year</th>\n",
       "      <th>sex</th>\n",
       "      <th>observations</th>\n",
       "      <th>age</th>\n",
       "    </tr>\n",
       "  </thead>\n",
       "  <tbody>\n",
       "    <tr>\n",
       "      <th>0</th>\n",
       "      <td>AD</td>\n",
       "      <td>2005</td>\n",
       "      <td>m04</td>\n",
       "      <td>0.0</td>\n",
       "      <td>04</td>\n",
       "    </tr>\n",
       "    <tr>\n",
       "      <th>1</th>\n",
       "      <td>AD</td>\n",
       "      <td>2006</td>\n",
       "      <td>m04</td>\n",
       "      <td>0.0</td>\n",
       "      <td>04</td>\n",
       "    </tr>\n",
       "    <tr>\n",
       "      <th>2</th>\n",
       "      <td>AD</td>\n",
       "      <td>2008</td>\n",
       "      <td>m04</td>\n",
       "      <td>0.0</td>\n",
       "      <td>04</td>\n",
       "    </tr>\n",
       "    <tr>\n",
       "      <th>3</th>\n",
       "      <td>AE</td>\n",
       "      <td>2008</td>\n",
       "      <td>m04</td>\n",
       "      <td>0.0</td>\n",
       "      <td>04</td>\n",
       "    </tr>\n",
       "    <tr>\n",
       "      <th>4</th>\n",
       "      <td>AL</td>\n",
       "      <td>2005</td>\n",
       "      <td>m04</td>\n",
       "      <td>0.0</td>\n",
       "      <td>04</td>\n",
       "    </tr>\n",
       "  </tbody>\n",
       "</table>\n",
       "</div>"
      ],
      "text/plain": [
       "  country  year  sex  observations age\n",
       "0      AD  2005  m04           0.0  04\n",
       "1      AD  2006  m04           0.0  04\n",
       "2      AD  2008  m04           0.0  04\n",
       "3      AE  2008  m04           0.0  04\n",
       "4      AL  2005  m04           0.0  04"
      ]
     },
     "execution_count": 13,
     "metadata": {},
     "output_type": "execute_result"
    }
   ],
   "source": [
    "tb.head()"
   ]
  },
  {
   "cell_type": "code",
   "execution_count": 14,
   "metadata": {
    "ExecuteTime": {
     "end_time": "2020-04-05T19:16:56.891156Z",
     "start_time": "2020-04-05T19:16:56.879156Z"
    }
   },
   "outputs": [],
   "source": [
    "tb['age']=tb['age'].map(mapAges(tb.age))"
   ]
  },
  {
   "cell_type": "code",
   "execution_count": 15,
   "metadata": {
    "ExecuteTime": {
     "end_time": "2020-04-05T19:16:56.918158Z",
     "start_time": "2020-04-05T19:16:56.894157Z"
    }
   },
   "outputs": [
    {
     "data": {
      "text/html": [
       "<div>\n",
       "<style scoped>\n",
       "    .dataframe tbody tr th:only-of-type {\n",
       "        vertical-align: middle;\n",
       "    }\n",
       "\n",
       "    .dataframe tbody tr th {\n",
       "        vertical-align: top;\n",
       "    }\n",
       "\n",
       "    .dataframe thead th {\n",
       "        text-align: right;\n",
       "    }\n",
       "</style>\n",
       "<table border=\"1\" class=\"dataframe\">\n",
       "  <thead>\n",
       "    <tr style=\"text-align: right;\">\n",
       "      <th></th>\n",
       "      <th>country</th>\n",
       "      <th>year</th>\n",
       "      <th>sex</th>\n",
       "      <th>observations</th>\n",
       "      <th>age</th>\n",
       "    </tr>\n",
       "  </thead>\n",
       "  <tbody>\n",
       "    <tr>\n",
       "      <th>0</th>\n",
       "      <td>AD</td>\n",
       "      <td>2005</td>\n",
       "      <td>m04</td>\n",
       "      <td>0.0</td>\n",
       "      <td>0-4</td>\n",
       "    </tr>\n",
       "    <tr>\n",
       "      <th>1</th>\n",
       "      <td>AD</td>\n",
       "      <td>2006</td>\n",
       "      <td>m04</td>\n",
       "      <td>0.0</td>\n",
       "      <td>0-4</td>\n",
       "    </tr>\n",
       "    <tr>\n",
       "      <th>2</th>\n",
       "      <td>AD</td>\n",
       "      <td>2008</td>\n",
       "      <td>m04</td>\n",
       "      <td>0.0</td>\n",
       "      <td>0-4</td>\n",
       "    </tr>\n",
       "    <tr>\n",
       "      <th>3</th>\n",
       "      <td>AE</td>\n",
       "      <td>2008</td>\n",
       "      <td>m04</td>\n",
       "      <td>0.0</td>\n",
       "      <td>0-4</td>\n",
       "    </tr>\n",
       "    <tr>\n",
       "      <th>4</th>\n",
       "      <td>AL</td>\n",
       "      <td>2005</td>\n",
       "      <td>m04</td>\n",
       "      <td>0.0</td>\n",
       "      <td>0-4</td>\n",
       "    </tr>\n",
       "  </tbody>\n",
       "</table>\n",
       "</div>"
      ],
      "text/plain": [
       "  country  year  sex  observations  age\n",
       "0      AD  2005  m04           0.0  0-4\n",
       "1      AD  2006  m04           0.0  0-4\n",
       "2      AD  2008  m04           0.0  0-4\n",
       "3      AE  2008  m04           0.0  0-4\n",
       "4      AL  2005  m04           0.0  0-4"
      ]
     },
     "execution_count": 15,
     "metadata": {},
     "output_type": "execute_result"
    }
   ],
   "source": [
    "tb.head()"
   ]
  },
  {
   "cell_type": "code",
   "execution_count": 16,
   "metadata": {
    "ExecuteTime": {
     "end_time": "2020-04-05T19:16:56.932159Z",
     "start_time": "2020-04-05T19:16:56.922158Z"
    }
   },
   "outputs": [],
   "source": [
    "tb['sex']=tb['sex'].apply(lambda s: s[0])"
   ]
  },
  {
   "cell_type": "code",
   "execution_count": 17,
   "metadata": {
    "ExecuteTime": {
     "end_time": "2020-04-05T19:16:56.962160Z",
     "start_time": "2020-04-05T19:16:56.936159Z"
    }
   },
   "outputs": [
    {
     "data": {
      "text/html": [
       "<div>\n",
       "<style scoped>\n",
       "    .dataframe tbody tr th:only-of-type {\n",
       "        vertical-align: middle;\n",
       "    }\n",
       "\n",
       "    .dataframe tbody tr th {\n",
       "        vertical-align: top;\n",
       "    }\n",
       "\n",
       "    .dataframe thead th {\n",
       "        text-align: right;\n",
       "    }\n",
       "</style>\n",
       "<table border=\"1\" class=\"dataframe\">\n",
       "  <thead>\n",
       "    <tr style=\"text-align: right;\">\n",
       "      <th></th>\n",
       "      <th>country</th>\n",
       "      <th>year</th>\n",
       "      <th>sex</th>\n",
       "      <th>observations</th>\n",
       "      <th>age</th>\n",
       "    </tr>\n",
       "  </thead>\n",
       "  <tbody>\n",
       "    <tr>\n",
       "      <th>0</th>\n",
       "      <td>AD</td>\n",
       "      <td>2005</td>\n",
       "      <td>m</td>\n",
       "      <td>0.0</td>\n",
       "      <td>0-4</td>\n",
       "    </tr>\n",
       "    <tr>\n",
       "      <th>1</th>\n",
       "      <td>AD</td>\n",
       "      <td>2006</td>\n",
       "      <td>m</td>\n",
       "      <td>0.0</td>\n",
       "      <td>0-4</td>\n",
       "    </tr>\n",
       "    <tr>\n",
       "      <th>2</th>\n",
       "      <td>AD</td>\n",
       "      <td>2008</td>\n",
       "      <td>m</td>\n",
       "      <td>0.0</td>\n",
       "      <td>0-4</td>\n",
       "    </tr>\n",
       "    <tr>\n",
       "      <th>3</th>\n",
       "      <td>AE</td>\n",
       "      <td>2008</td>\n",
       "      <td>m</td>\n",
       "      <td>0.0</td>\n",
       "      <td>0-4</td>\n",
       "    </tr>\n",
       "    <tr>\n",
       "      <th>4</th>\n",
       "      <td>AL</td>\n",
       "      <td>2005</td>\n",
       "      <td>m</td>\n",
       "      <td>0.0</td>\n",
       "      <td>0-4</td>\n",
       "    </tr>\n",
       "  </tbody>\n",
       "</table>\n",
       "</div>"
      ],
      "text/plain": [
       "  country  year sex  observations  age\n",
       "0      AD  2005   m           0.0  0-4\n",
       "1      AD  2006   m           0.0  0-4\n",
       "2      AD  2008   m           0.0  0-4\n",
       "3      AE  2008   m           0.0  0-4\n",
       "4      AL  2005   m           0.0  0-4"
      ]
     },
     "execution_count": 17,
     "metadata": {},
     "output_type": "execute_result"
    }
   ],
   "source": [
    "tb.head()"
   ]
  },
  {
   "cell_type": "code",
   "execution_count": 18,
   "metadata": {
    "ExecuteTime": {
     "end_time": "2020-04-05T19:16:56.995162Z",
     "start_time": "2020-04-05T19:16:56.966161Z"
    }
   },
   "outputs": [
    {
     "data": {
      "text/html": [
       "<div>\n",
       "<style scoped>\n",
       "    .dataframe tbody tr th:only-of-type {\n",
       "        vertical-align: middle;\n",
       "    }\n",
       "\n",
       "    .dataframe tbody tr th {\n",
       "        vertical-align: top;\n",
       "    }\n",
       "\n",
       "    .dataframe thead th {\n",
       "        text-align: right;\n",
       "    }\n",
       "</style>\n",
       "<table border=\"1\" class=\"dataframe\">\n",
       "  <thead>\n",
       "    <tr style=\"text-align: right;\">\n",
       "      <th></th>\n",
       "      <th>country</th>\n",
       "      <th>year</th>\n",
       "      <th>age</th>\n",
       "      <th>sex</th>\n",
       "      <th>observations</th>\n",
       "    </tr>\n",
       "  </thead>\n",
       "  <tbody>\n",
       "    <tr>\n",
       "      <th>0</th>\n",
       "      <td>AD</td>\n",
       "      <td>2005</td>\n",
       "      <td>0-4</td>\n",
       "      <td>m</td>\n",
       "      <td>0.0</td>\n",
       "    </tr>\n",
       "    <tr>\n",
       "      <th>1</th>\n",
       "      <td>AD</td>\n",
       "      <td>2006</td>\n",
       "      <td>0-4</td>\n",
       "      <td>m</td>\n",
       "      <td>0.0</td>\n",
       "    </tr>\n",
       "    <tr>\n",
       "      <th>2</th>\n",
       "      <td>AD</td>\n",
       "      <td>2008</td>\n",
       "      <td>0-4</td>\n",
       "      <td>m</td>\n",
       "      <td>0.0</td>\n",
       "    </tr>\n",
       "    <tr>\n",
       "      <th>3</th>\n",
       "      <td>AE</td>\n",
       "      <td>2008</td>\n",
       "      <td>0-4</td>\n",
       "      <td>m</td>\n",
       "      <td>0.0</td>\n",
       "    </tr>\n",
       "    <tr>\n",
       "      <th>4</th>\n",
       "      <td>AL</td>\n",
       "      <td>2005</td>\n",
       "      <td>0-4</td>\n",
       "      <td>m</td>\n",
       "      <td>0.0</td>\n",
       "    </tr>\n",
       "  </tbody>\n",
       "</table>\n",
       "</div>"
      ],
      "text/plain": [
       "  country  year  age sex  observations\n",
       "0      AD  2005  0-4   m           0.0\n",
       "1      AD  2006  0-4   m           0.0\n",
       "2      AD  2008  0-4   m           0.0\n",
       "3      AE  2008  0-4   m           0.0\n",
       "4      AL  2005  0-4   m           0.0"
      ]
     },
     "execution_count": 18,
     "metadata": {},
     "output_type": "execute_result"
    }
   ],
   "source": [
    "tb=tb[['country','year','age','sex','observations']]\n",
    "tb.head()"
   ]
  },
  {
   "cell_type": "code",
   "execution_count": 19,
   "metadata": {
    "ExecuteTime": {
     "end_time": "2020-04-05T19:16:57.016164Z",
     "start_time": "2020-04-05T19:16:56.999163Z"
    }
   },
   "outputs": [
    {
     "name": "stdout",
     "output_type": "stream",
     "text": [
      "<class 'pandas.core.frame.DataFrame'>\n",
      "RangeIndex: 4338 entries, 0 to 4337\n",
      "Data columns (total 5 columns):\n",
      "country         4338 non-null object\n",
      "year            4338 non-null int64\n",
      "age             4338 non-null object\n",
      "sex             4338 non-null object\n",
      "observations    4338 non-null float64\n",
      "dtypes: float64(1), int64(1), object(3)\n",
      "memory usage: 169.5+ KB\n"
     ]
    }
   ],
   "source": [
    "tb.info()"
   ]
  },
  {
   "cell_type": "code",
   "execution_count": 20,
   "metadata": {
    "ExecuteTime": {
     "end_time": "2020-04-05T19:16:57.098168Z",
     "start_time": "2020-04-05T19:16:57.021164Z"
    }
   },
   "outputs": [],
   "source": [
    "tb.sort_values(['country','year','age','sex'],inplace=True)"
   ]
  },
  {
   "cell_type": "code",
   "execution_count": 21,
   "metadata": {
    "ExecuteTime": {
     "end_time": "2020-04-05T19:16:57.130170Z",
     "start_time": "2020-04-05T19:16:57.103169Z"
    }
   },
   "outputs": [
    {
     "data": {
      "text/html": [
       "<div>\n",
       "<style scoped>\n",
       "    .dataframe tbody tr th:only-of-type {\n",
       "        vertical-align: middle;\n",
       "    }\n",
       "\n",
       "    .dataframe tbody tr th {\n",
       "        vertical-align: top;\n",
       "    }\n",
       "\n",
       "    .dataframe thead th {\n",
       "        text-align: right;\n",
       "    }\n",
       "</style>\n",
       "<table border=\"1\" class=\"dataframe\">\n",
       "  <thead>\n",
       "    <tr style=\"text-align: right;\">\n",
       "      <th></th>\n",
       "      <th>country</th>\n",
       "      <th>year</th>\n",
       "      <th>age</th>\n",
       "      <th>sex</th>\n",
       "      <th>observations</th>\n",
       "    </tr>\n",
       "  </thead>\n",
       "  <tbody>\n",
       "    <tr>\n",
       "      <th>2651</th>\n",
       "      <td>AD</td>\n",
       "      <td>2005</td>\n",
       "      <td>0-14</td>\n",
       "      <td>f</td>\n",
       "      <td>0.0</td>\n",
       "    </tr>\n",
       "    <tr>\n",
       "      <th>482</th>\n",
       "      <td>AD</td>\n",
       "      <td>2005</td>\n",
       "      <td>0-14</td>\n",
       "      <td>m</td>\n",
       "      <td>0.0</td>\n",
       "    </tr>\n",
       "    <tr>\n",
       "      <th>2169</th>\n",
       "      <td>AD</td>\n",
       "      <td>2005</td>\n",
       "      <td>0-4</td>\n",
       "      <td>f</td>\n",
       "      <td>0.0</td>\n",
       "    </tr>\n",
       "    <tr>\n",
       "      <th>0</th>\n",
       "      <td>AD</td>\n",
       "      <td>2005</td>\n",
       "      <td>0-4</td>\n",
       "      <td>m</td>\n",
       "      <td>0.0</td>\n",
       "    </tr>\n",
       "    <tr>\n",
       "      <th>2892</th>\n",
       "      <td>AD</td>\n",
       "      <td>2005</td>\n",
       "      <td>15-24</td>\n",
       "      <td>f</td>\n",
       "      <td>1.0</td>\n",
       "    </tr>\n",
       "    <tr>\n",
       "      <th>723</th>\n",
       "      <td>AD</td>\n",
       "      <td>2005</td>\n",
       "      <td>15-24</td>\n",
       "      <td>m</td>\n",
       "      <td>0.0</td>\n",
       "    </tr>\n",
       "    <tr>\n",
       "      <th>3133</th>\n",
       "      <td>AD</td>\n",
       "      <td>2005</td>\n",
       "      <td>25-34</td>\n",
       "      <td>f</td>\n",
       "      <td>1.0</td>\n",
       "    </tr>\n",
       "    <tr>\n",
       "      <th>964</th>\n",
       "      <td>AD</td>\n",
       "      <td>2005</td>\n",
       "      <td>25-34</td>\n",
       "      <td>m</td>\n",
       "      <td>1.0</td>\n",
       "    </tr>\n",
       "    <tr>\n",
       "      <th>3374</th>\n",
       "      <td>AD</td>\n",
       "      <td>2005</td>\n",
       "      <td>35-44</td>\n",
       "      <td>f</td>\n",
       "      <td>1.0</td>\n",
       "    </tr>\n",
       "    <tr>\n",
       "      <th>1205</th>\n",
       "      <td>AD</td>\n",
       "      <td>2005</td>\n",
       "      <td>35-44</td>\n",
       "      <td>m</td>\n",
       "      <td>1.0</td>\n",
       "    </tr>\n",
       "    <tr>\n",
       "      <th>3615</th>\n",
       "      <td>AD</td>\n",
       "      <td>2005</td>\n",
       "      <td>45-54</td>\n",
       "      <td>f</td>\n",
       "      <td>0.0</td>\n",
       "    </tr>\n",
       "    <tr>\n",
       "      <th>1446</th>\n",
       "      <td>AD</td>\n",
       "      <td>2005</td>\n",
       "      <td>45-54</td>\n",
       "      <td>m</td>\n",
       "      <td>0.0</td>\n",
       "    </tr>\n",
       "    <tr>\n",
       "      <th>2410</th>\n",
       "      <td>AD</td>\n",
       "      <td>2005</td>\n",
       "      <td>5-14</td>\n",
       "      <td>f</td>\n",
       "      <td>0.0</td>\n",
       "    </tr>\n",
       "    <tr>\n",
       "      <th>241</th>\n",
       "      <td>AD</td>\n",
       "      <td>2005</td>\n",
       "      <td>5-14</td>\n",
       "      <td>m</td>\n",
       "      <td>0.0</td>\n",
       "    </tr>\n",
       "    <tr>\n",
       "      <th>3856</th>\n",
       "      <td>AD</td>\n",
       "      <td>2005</td>\n",
       "      <td>55-64</td>\n",
       "      <td>f</td>\n",
       "      <td>0.0</td>\n",
       "    </tr>\n",
       "    <tr>\n",
       "      <th>1687</th>\n",
       "      <td>AD</td>\n",
       "      <td>2005</td>\n",
       "      <td>55-64</td>\n",
       "      <td>m</td>\n",
       "      <td>0.0</td>\n",
       "    </tr>\n",
       "    <tr>\n",
       "      <th>4097</th>\n",
       "      <td>AD</td>\n",
       "      <td>2005</td>\n",
       "      <td>65</td>\n",
       "      <td>f</td>\n",
       "      <td>0.0</td>\n",
       "    </tr>\n",
       "    <tr>\n",
       "      <th>1928</th>\n",
       "      <td>AD</td>\n",
       "      <td>2005</td>\n",
       "      <td>65</td>\n",
       "      <td>m</td>\n",
       "      <td>0.0</td>\n",
       "    </tr>\n",
       "    <tr>\n",
       "      <th>2652</th>\n",
       "      <td>AD</td>\n",
       "      <td>2006</td>\n",
       "      <td>0-14</td>\n",
       "      <td>f</td>\n",
       "      <td>0.0</td>\n",
       "    </tr>\n",
       "    <tr>\n",
       "      <th>483</th>\n",
       "      <td>AD</td>\n",
       "      <td>2006</td>\n",
       "      <td>0-14</td>\n",
       "      <td>m</td>\n",
       "      <td>0.0</td>\n",
       "    </tr>\n",
       "  </tbody>\n",
       "</table>\n",
       "</div>"
      ],
      "text/plain": [
       "     country  year    age sex  observations\n",
       "2651      AD  2005   0-14   f           0.0\n",
       "482       AD  2005   0-14   m           0.0\n",
       "2169      AD  2005    0-4   f           0.0\n",
       "0         AD  2005    0-4   m           0.0\n",
       "2892      AD  2005  15-24   f           1.0\n",
       "723       AD  2005  15-24   m           0.0\n",
       "3133      AD  2005  25-34   f           1.0\n",
       "964       AD  2005  25-34   m           1.0\n",
       "3374      AD  2005  35-44   f           1.0\n",
       "1205      AD  2005  35-44   m           1.0\n",
       "3615      AD  2005  45-54   f           0.0\n",
       "1446      AD  2005  45-54   m           0.0\n",
       "2410      AD  2005   5-14   f           0.0\n",
       "241       AD  2005   5-14   m           0.0\n",
       "3856      AD  2005  55-64   f           0.0\n",
       "1687      AD  2005  55-64   m           0.0\n",
       "4097      AD  2005     65   f           0.0\n",
       "1928      AD  2005     65   m           0.0\n",
       "2652      AD  2006   0-14   f           0.0\n",
       "483       AD  2006   0-14   m           0.0"
      ]
     },
     "execution_count": 21,
     "metadata": {},
     "output_type": "execute_result"
    }
   ],
   "source": [
    "tb.head(20)"
   ]
  },
  {
   "cell_type": "code",
   "execution_count": 22,
   "metadata": {
    "ExecuteTime": {
     "end_time": "2020-04-05T19:16:57.178173Z",
     "start_time": "2020-04-05T19:16:57.134170Z"
    },
    "collapsed": true
   },
   "outputs": [],
   "source": [
    "tb.to_csv('tb_final.csv',index=False)"
   ]
  },
  {
   "cell_type": "code",
   "execution_count": null,
   "metadata": {
    "collapsed": true
   },
   "outputs": [],
   "source": []
  },
  {
   "cell_type": "markdown",
   "metadata": {},
   "source": [
    "# Extras"
   ]
  },
  {
   "cell_type": "code",
   "execution_count": null,
   "metadata": {
    "collapsed": true
   },
   "outputs": [],
   "source": []
  },
  {
   "cell_type": "code",
   "execution_count": null,
   "metadata": {
    "collapsed": true
   },
   "outputs": [],
   "source": []
  }
 ],
 "metadata": {
  "hide_input": false,
  "kernelspec": {
   "display_name": "Python 3",
   "language": "python",
   "name": "python3"
  },
  "language_info": {
   "codemirror_mode": {
    "name": "ipython",
    "version": 3
   },
   "file_extension": ".py",
   "mimetype": "text/x-python",
   "name": "python",
   "nbconvert_exporter": "python",
   "pygments_lexer": "ipython3",
   "version": "3.6.3"
  },
  "latex_envs": {
   "LaTeX_envs_menu_present": true,
   "autoclose": false,
   "autocomplete": true,
   "bibliofile": "biblio.bib",
   "cite_by": "apalike",
   "current_citInitial": 1,
   "eqLabelWithNumbers": true,
   "eqNumInitial": 1,
   "hotkeys": {
    "equation": "Ctrl-E",
    "itemize": "Ctrl-I"
   },
   "labels_anchors": false,
   "latex_user_defs": false,
   "report_style_numbering": false,
   "user_envs_cfg": false
  },
  "toc": {
   "base_numbering": 1,
   "nav_menu": {},
   "number_sections": true,
   "sideBar": true,
   "skip_h1_title": false,
   "title_cell": "Table of Contents",
   "title_sidebar": "Contents",
   "toc_cell": false,
   "toc_position": {
    "height": "calc(100% - 180px)",
    "left": "10px",
    "top": "150px",
    "width": "178px"
   },
   "toc_section_display": true,
   "toc_window_display": true
  },
  "varInspector": {
   "cols": {
    "lenName": 16,
    "lenType": 16,
    "lenVar": 40
   },
   "kernels_config": {
    "python": {
     "delete_cmd_postfix": "",
     "delete_cmd_prefix": "del ",
     "library": "var_list.py",
     "varRefreshCmd": "print(var_dic_list())"
    },
    "r": {
     "delete_cmd_postfix": ") ",
     "delete_cmd_prefix": "rm(",
     "library": "var_list.r",
     "varRefreshCmd": "cat(var_dic_list()) "
    }
   },
   "types_to_exclude": [
    "module",
    "function",
    "builtin_function_or_method",
    "instance",
    "_Feature"
   ],
   "window_display": false
  }
 },
 "nbformat": 4,
 "nbformat_minor": 2
}
