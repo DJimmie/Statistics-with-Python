{
 "cells": [
  {
   "cell_type": "markdown",
   "metadata": {},
   "source": [
    "## Python statistics essential training - 03_03_histograms"
   ]
  },
  {
   "cell_type": "markdown",
   "metadata": {},
   "source": [
    "Standard imports"
   ]
  },
  {
   "cell_type": "code",
   "execution_count": 25,
   "metadata": {
    "ExecuteTime": {
     "end_time": "2020-04-06T04:25:15.286837Z",
     "start_time": "2020-04-06T04:25:15.274836Z"
    },
    "collapsed": true
   },
   "outputs": [],
   "source": [
    "import numpy as np\n",
    "import scipy.stats\n",
    "import pandas as pd"
   ]
  },
  {
   "cell_type": "code",
   "execution_count": 26,
   "metadata": {
    "ExecuteTime": {
     "end_time": "2020-04-06T04:25:15.434845Z",
     "start_time": "2020-04-06T04:25:15.290837Z"
    },
    "collapsed": true
   },
   "outputs": [],
   "source": [
    "import matplotlib\n",
    "import matplotlib.pyplot as pp\n",
    "\n",
    "from IPython import display\n",
    "from ipywidgets import interact, widgets\n",
    "\n",
    "%matplotlib inline"
   ]
  },
  {
   "cell_type": "code",
   "execution_count": 27,
   "metadata": {
    "ExecuteTime": {
     "end_time": "2020-04-06T04:25:15.456847Z",
     "start_time": "2020-04-06T04:25:15.440846Z"
    },
    "collapsed": true
   },
   "outputs": [],
   "source": [
    "import re\n",
    "import mailbox\n",
    "import csv"
   ]
  },
  {
   "cell_type": "code",
   "execution_count": 28,
   "metadata": {
    "ExecuteTime": {
     "end_time": "2020-04-06T04:25:15.513850Z",
     "start_time": "2020-04-06T04:25:15.464847Z"
    },
    "collapsed": true
   },
   "outputs": [],
   "source": [
    "china1965 = pd.read_csv('income-1965-china.csv')\n",
    "china2015 = pd.read_csv('income-2015-china.csv')\n",
    "usa1965 = pd.read_csv('income-1965-usa.csv')\n",
    "usa2015 = pd.read_csv('income-2015-usa.csv')"
   ]
  },
  {
   "cell_type": "code",
   "execution_count": 29,
   "metadata": {
    "ExecuteTime": {
     "end_time": "2020-04-06T04:25:15.768865Z",
     "start_time": "2020-04-06T04:25:15.517850Z"
    }
   },
   "outputs": [
    {
     "data": {
      "text/plain": [
       "<matplotlib.axes._subplots.AxesSubplot at 0xcaf4630>"
      ]
     },
     "execution_count": 29,
     "metadata": {},
     "output_type": "execute_result"
    },
    {
     "data": {
      "image/png": "[encoded data removed]",
      "text/plain": [
       "<Figure size 432x288 with 1 Axes>"
      ]
     },
     "metadata": {},
     "output_type": "display_data"
    }
   ],
   "source": [
    "china1965.income.plot(kind='box')"
   ]
  },
  {
   "cell_type": "code",
   "execution_count": 30,
   "metadata": {
    "ExecuteTime": {
     "end_time": "2020-04-06T04:25:16.014879Z",
     "start_time": "2020-04-06T04:25:15.772865Z"
    }
   },
   "outputs": [
    {
     "data": {
      "text/plain": [
       "<matplotlib.axes._subplots.AxesSubplot at 0xb131a58>"
      ]
     },
     "execution_count": 30,
     "metadata": {},
     "output_type": "execute_result"
    },
    {
     "data": {
      "image/png": "[encoded data removed]",
      "text/plain": [
       "<Figure size 432x288 with 1 Axes>"
      ]
     },
     "metadata": {},
     "output_type": "display_data"
    }
   ],
   "source": [
    "pd.DataFrame({'usa':usa1965.income,'china':china1965.income}).boxplot()"
   ]
  },
  {
   "cell_type": "code",
   "execution_count": 31,
   "metadata": {
    "ExecuteTime": {
     "end_time": "2020-04-06T04:25:16.264893Z",
     "start_time": "2020-04-06T04:25:16.020879Z"
    }
   },
   "outputs": [
    {
     "data": {
      "text/plain": [
       "<matplotlib.axes._subplots.AxesSubplot at 0xca715c0>"
      ]
     },
     "execution_count": 31,
     "metadata": {},
     "output_type": "execute_result"
    },
    {
     "data": {
      "image/png": "[encoded data removed]",
      "text/plain": [
       "<Figure size 432x288 with 1 Axes>"
      ]
     },
     "metadata": {},
     "output_type": "display_data"
    }
   ],
   "source": [
    "pd.DataFrame({'usa':usa1965.log10_income,'china':china1965.log10_income}).boxplot()"
   ]
  },
  {
   "cell_type": "code",
   "execution_count": 32,
   "metadata": {
    "ExecuteTime": {
     "end_time": "2020-04-06T04:25:16.641915Z",
     "start_time": "2020-04-06T04:25:16.268893Z"
    }
   },
   "outputs": [
    {
     "data": {
      "text/plain": [
       "<matplotlib.lines.Line2D at 0xc8cfb00>"
      ]
     },
     "execution_count": 32,
     "metadata": {},
     "output_type": "execute_result"
    },
    {
     "data": {
      "image/png": "[encoded data removed]",
      "text/plain": [
       "<Figure size 432x288 with 1 Axes>"
      ]
     },
     "metadata": {},
     "output_type": "display_data"
    }
   ],
   "source": [
    "china1965.income.plot(kind='hist',histtype='step',bins=30)\n",
    "pp.axvline(china1965.income.mean(),c='C1')\n",
    "pp.axvline(china1965.income.median(),c='C1',linestyle='--')\n",
    "pp.axvline(china1965.income.quantile(.25),c='C1',linestyle=':')\n",
    "pp.axvline(china1965.income.quantile(.75),c='C1',linestyle=':')"
   ]
  },
  {
   "cell_type": "code",
   "execution_count": 35,
   "metadata": {
    "ExecuteTime": {
     "end_time": "2020-04-06T04:31:16.665507Z",
     "start_time": "2020-04-06T04:31:16.269484Z"
    }
   },
   "outputs": [
    {
     "data": {
      "text/plain": [
       "(0.0, 3.0, 0.0, 1.2342999882944066)"
      ]
     },
     "execution_count": 35,
     "metadata": {},
     "output_type": "execute_result"
    },
    {
     "data": {
      "image/png": "[encoded data removed]",
      "text/plain": [
       "<Figure size 432x288 with 1 Axes>"
      ]
     },
     "metadata": {},
     "output_type": "display_data"
    }
   ],
   "source": [
    "china1965.income.plot(kind='hist',histtype='step',bins=30,density=True)\n",
    "china1965.income.plot.density(bw_method=0.5)\n",
    "\n",
    "pp.axis(xmin=0,xmax=3)"
   ]
  },
  {
   "cell_type": "code",
   "execution_count": 38,
   "metadata": {
    "ExecuteTime": {
     "end_time": "2020-04-06T04:37:25.452600Z",
     "start_time": "2020-04-06T04:37:25.159583Z"
    }
   },
   "outputs": [
    {
     "data": {
      "image/png": "[encoded data removed]",
      "text/plain": [
       "<Figure size 432x288 with 1 Axes>"
      ]
     },
     "metadata": {},
     "output_type": "display_data"
    }
   ],
   "source": [
    "china1965.log10_income.plot.hist(histtype='step',bins=20)\n",
    "usa1965.log10_income.plot.hist(histtype='step',bins=20)\n",
    "\n",
    "levels=[.25,0.5,1,2,4,8,16,32,64]\n",
    "pp.xticks(np.log10(levels),levels);"
   ]
  },
  {
   "cell_type": "code",
   "execution_count": 39,
   "metadata": {
    "ExecuteTime": {
     "end_time": "2020-04-06T04:38:27.801166Z",
     "start_time": "2020-04-06T04:38:27.436145Z"
    },
    "scrolled": true
   },
   "outputs": [
    {
     "data": {
      "image/png": "[encoded data removed]",
      "text/plain": [
       "<Figure size 432x288 with 1 Axes>"
      ]
     },
     "metadata": {},
     "output_type": "display_data"
    }
   ],
   "source": [
    "china2015.log10_income.plot.hist(histtype='step',bins=20)\n",
    "usa2015.log10_income.plot.hist(histtype='step',bins=20)\n",
    "\n",
    "levels=[.25,0.5,1,2,4,8,16,32,64]\n",
    "pp.xticks(np.log10(levels),levels);"
   ]
  },
  {
   "cell_type": "code",
   "execution_count": 40,
   "metadata": {
    "ExecuteTime": {
     "end_time": "2020-04-06T04:40:14.420265Z",
     "start_time": "2020-04-06T04:40:14.246255Z"
    },
    "collapsed": true
   },
   "outputs": [],
   "source": [
    "gapminder=pd.read_csv('gapminder.csv')"
   ]
  },
  {
   "cell_type": "code",
   "execution_count": 43,
   "metadata": {
    "ExecuteTime": {
     "end_time": "2020-04-06T04:43:29.161403Z",
     "start_time": "2020-04-06T04:43:29.131401Z"
    }
   },
   "outputs": [],
   "source": [
    "china_pop2015=float(gapminder.query('country==\"China\" and year==2015').population)"
   ]
  },
  {
   "cell_type": "code",
   "execution_count": 44,
   "metadata": {
    "ExecuteTime": {
     "end_time": "2020-04-06T04:44:05.877503Z",
     "start_time": "2020-04-06T04:44:05.848501Z"
    },
    "collapsed": true
   },
   "outputs": [],
   "source": [
    "usa_pop2015=float(gapminder.query('country==\"United States\" and year==2015').population)"
   ]
  },
  {
   "cell_type": "code",
   "execution_count": 45,
   "metadata": {
    "ExecuteTime": {
     "end_time": "2020-04-06T04:44:16.950136Z",
     "start_time": "2020-04-06T04:44:16.924135Z"
    }
   },
   "outputs": [
    {
     "data": {
      "text/plain": [
       "(1376048943.0, 321773631.0)"
      ]
     },
     "execution_count": 45,
     "metadata": {},
     "output_type": "execute_result"
    }
   ],
   "source": [
    "china_pop2015,usa_pop2015"
   ]
  },
  {
   "cell_type": "code",
   "execution_count": 46,
   "metadata": {
    "ExecuteTime": {
     "end_time": "2020-04-06T17:51:40.776329Z",
     "start_time": "2020-04-06T17:51:40.727326Z"
    },
    "collapsed": true
   },
   "outputs": [],
   "source": [
    "china2015['weight']=china_pop2015/len(china2015)\n",
    "usa2015['weight']=usa_pop2015/len(usa2015)"
   ]
  },
  {
   "cell_type": "code",
   "execution_count": 47,
   "metadata": {
    "ExecuteTime": {
     "end_time": "2020-04-06T17:52:49.043233Z",
     "start_time": "2020-04-06T17:52:48.655211Z"
    }
   },
   "outputs": [
    {
     "data": {
      "image/png": "[encoded data removed]",
      "text/plain": [
       "<Figure size 432x288 with 1 Axes>"
      ]
     },
     "metadata": {},
     "output_type": "display_data"
    }
   ],
   "source": [
    "china2015.log10_income.plot.hist(histtype='step',bins=20,weights=china2015.weight)\n",
    "usa2015.log10_income.plot.hist(histtype='step',bins=20,weights=usa2015.weight)\n",
    "\n",
    "levels=[.25,0.5,1,2,4,8,16,32,64]\n",
    "pp.xticks(np.log10(levels),levels);"
   ]
  },
  {
   "cell_type": "code",
   "execution_count": null,
   "metadata": {
    "collapsed": true
   },
   "outputs": [],
   "source": []
  }
 ],
 "metadata": {
  "hide_input": false,
  "kernelspec": {
   "display_name": "Python 3",
   "language": "python",
   "name": "python3"
  },
  "language_info": {
   "codemirror_mode": {
    "name": "ipython",
    "version": 3
   },
   "file_extension": ".py",
   "mimetype": "text/x-python",
   "name": "python",
   "nbconvert_exporter": "python",
   "pygments_lexer": "ipython3",
   "version": "3.6.3"
  },
  "latex_envs": {
   "LaTeX_envs_menu_present": true,
   "autoclose": false,
   "autocomplete": true,
   "bibliofile": "biblio.bib",
   "cite_by": "apalike",
   "current_citInitial": 1,
   "eqLabelWithNumbers": true,
   "eqNumInitial": 1,
   "hotkeys": {
    "equation": "Ctrl-E",
    "itemize": "Ctrl-I"
   },
   "labels_anchors": false,
   "latex_user_defs": false,
   "report_style_numbering": false,
   "user_envs_cfg": false
  },
  "toc": {
   "base_numbering": 1,
   "nav_menu": {},
   "number_sections": true,
   "sideBar": true,
   "skip_h1_title": false,
   "title_cell": "Table of Contents",
   "title_sidebar": "Contents",
   "toc_cell": false,
   "toc_position": {},
   "toc_section_display": true,
   "toc_window_display": false
  },
  "varInspector": {
   "cols": {
    "lenName": 16,
    "lenType": 16,
    "lenVar": 40
   },
   "kernels_config": {
    "python": {
     "delete_cmd_postfix": "",
     "delete_cmd_prefix": "del ",
     "library": "var_list.py",
     "varRefreshCmd": "print(var_dic_list())"
    },
    "r": {
     "delete_cmd_postfix": ") ",
     "delete_cmd_prefix": "rm(",
     "library": "var_list.r",
     "varRefreshCmd": "cat(var_dic_list()) "
    }
   },
   "types_to_exclude": [
    "module",
    "function",
    "builtin_function_or_method",
    "instance",
    "_Feature"
   ],
   "window_display": false
  }
 },
 "nbformat": 4,
 "nbformat_minor": 2
}
