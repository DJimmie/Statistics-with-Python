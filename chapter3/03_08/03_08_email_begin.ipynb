{
 "cells": [
  {
   "cell_type": "markdown",
   "metadata": {},
   "source": [
    "## Python statistics essential training - 03_08_email"
   ]
  },
  {
   "cell_type": "markdown",
   "metadata": {},
   "source": [
    "Standard imports"
   ]
  },
  {
   "cell_type": "code",
   "execution_count": 59,
   "metadata": {
    "ExecuteTime": {
     "end_time": "2020-04-14T19:06:03.401007Z",
     "start_time": "2020-04-14T19:06:03.393006Z"
    },
    "collapsed": true
   },
   "outputs": [],
   "source": [
    "import numpy as np\n",
    "import scipy.stats\n",
    "import pandas as pd"
   ]
  },
  {
   "cell_type": "code",
   "execution_count": 60,
   "metadata": {
    "ExecuteTime": {
     "end_time": "2020-04-14T19:06:03.420008Z",
     "start_time": "2020-04-14T19:06:03.405007Z"
    },
    "collapsed": true
   },
   "outputs": [],
   "source": [
    "import matplotlib\n",
    "import matplotlib.pyplot as pp\n",
    "\n",
    "import pandas.plotting\n",
    "\n",
    "from IPython import display\n",
    "from ipywidgets import interact, widgets\n",
    "\n",
    "%matplotlib inline"
   ]
  },
  {
   "cell_type": "code",
   "execution_count": 61,
   "metadata": {
    "ExecuteTime": {
     "end_time": "2020-04-14T19:06:03.439009Z",
     "start_time": "2020-04-14T19:06:03.424008Z"
    },
    "collapsed": true
   },
   "outputs": [],
   "source": [
    "import re\n",
    "import mailbox\n",
    "import csv\n",
    "import datetime as dt"
   ]
  },
  {
   "cell_type": "markdown",
   "metadata": {},
   "source": [
    "### How I converted my mailbox."
   ]
  },
  {
   "cell_type": "code",
   "execution_count": 62,
   "metadata": {
    "ExecuteTime": {
     "end_time": "2020-04-14T19:06:03.641021Z",
     "start_time": "2020-04-14T19:06:03.635020Z"
    },
    "collapsed": true
   },
   "outputs": [],
   "source": [
    "mbox = mailbox.mbox('Sent.mbox')"
   ]
  },
  {
   "cell_type": "markdown",
   "metadata": {},
   "source": [
    "The resulting object is array-like, with one entry per message. Each entry is dictionary like, with keys corresponding to metadata and data for each message."
   ]
  },
  {
   "cell_type": "code",
   "execution_count": null,
   "metadata": {
    "deletable": false,
    "editable": false,
    "run_control": {
     "frozen": true
    }
   },
   "outputs": [],
   "source": [
    "mbox[0].keys()"
   ]
  },
  {
   "cell_type": "markdown",
   "metadata": {},
   "source": [
    "The easiest way to get these data into Pandas is to build a CSV file from them. We use the module `csv` to write out the CSV file as we loop over the mailbox object. We save only subject, from, to, and date, and we write a simple header at the top with the names of columns."
   ]
  },
  {
   "cell_type": "code",
   "execution_count": 63,
   "metadata": {
    "ExecuteTime": {
     "end_time": "2020-04-14T19:06:03.938038Z",
     "start_time": "2020-04-14T19:06:03.922037Z"
    },
    "collapsed": true
   },
   "outputs": [],
   "source": [
    "with open('mbox.csv', 'w') as outfile:\n",
    "    writer = csv.writer(outfile)\n",
    "    writer.writerow(['subject','from','to','date'])\n",
    "    \n",
    "    for message in mbox:\n",
    "        writer.writerow([message['subject'], message['from'], message['to'], message['date']])"
   ]
  },
  {
   "cell_type": "markdown",
   "metadata": {},
   "source": [
    "All done! Thanks to Justin Ellis for inspiration with https://jellis18.github.io/post/2018-01-17-mail-analysis."
   ]
  },
  {
   "cell_type": "markdown",
   "metadata": {},
   "source": [
    "## Moving on!"
   ]
  },
  {
   "cell_type": "code",
   "execution_count": 64,
   "metadata": {
    "ExecuteTime": {
     "end_time": "2020-04-14T19:06:05.882149Z",
     "start_time": "2020-04-14T19:06:05.827146Z"
    },
    "collapsed": true
   },
   "outputs": [],
   "source": [
    "messages = pd.read_csv('mbox-anonymized.csv')"
   ]
  },
  {
   "cell_type": "code",
   "execution_count": 65,
   "metadata": {
    "ExecuteTime": {
     "end_time": "2020-04-14T19:06:05.909150Z",
     "start_time": "2020-04-14T19:06:05.887149Z"
    },
    "collapsed": true
   },
   "outputs": [],
   "source": [
    "messages=pd.read_csv('mbox-anonymized.csv')"
   ]
  },
  {
   "cell_type": "code",
   "execution_count": 66,
   "metadata": {
    "ExecuteTime": {
     "end_time": "2020-04-14T19:06:05.939152Z",
     "start_time": "2020-04-14T19:06:05.918151Z"
    }
   },
   "outputs": [
    {
     "name": "stdout",
     "output_type": "stream",
     "text": [
      "<class 'pandas.core.frame.DataFrame'>\n",
      "RangeIndex: 1030 entries, 0 to 1029\n",
      "Data columns (total 4 columns):\n",
      "subject    1030 non-null object\n",
      "from       1029 non-null object\n",
      "to         1030 non-null object\n",
      "date       1030 non-null object\n",
      "dtypes: object(4)\n",
      "memory usage: 32.3+ KB\n"
     ]
    }
   ],
   "source": [
    "messages.info()"
   ]
  },
  {
   "cell_type": "code",
   "execution_count": 67,
   "metadata": {
    "ExecuteTime": {
     "end_time": "2020-04-14T19:06:05.972154Z",
     "start_time": "2020-04-14T19:06:05.944152Z"
    }
   },
   "outputs": [
    {
     "data": {
      "text/html": [
       "<div>\n",
       "<style scoped>\n",
       "    .dataframe tbody tr th:only-of-type {\n",
       "        vertical-align: middle;\n",
       "    }\n",
       "\n",
       "    .dataframe tbody tr th {\n",
       "        vertical-align: top;\n",
       "    }\n",
       "\n",
       "    .dataframe thead th {\n",
       "        text-align: right;\n",
       "    }\n",
       "</style>\n",
       "<table border=\"1\" class=\"dataframe\">\n",
       "  <thead>\n",
       "    <tr style=\"text-align: right;\">\n",
       "      <th></th>\n",
       "      <th>subject</th>\n",
       "      <th>from</th>\n",
       "      <th>to</th>\n",
       "      <th>date</th>\n",
       "    </tr>\n",
       "  </thead>\n",
       "  <tbody>\n",
       "    <tr>\n",
       "      <th>0</th>\n",
       "      <td>Why control quickly exactly capital.</td>\n",
       "      <td>\"Vallisneri, Michele (335S)\" &lt;Michele.Vallisne...</td>\n",
       "      <td>\"Trevor Charles\" &lt;zrodriguez@hotmail.com&gt;</td>\n",
       "      <td>Mon, 27 Nov 2017 14:18:46 -0800</td>\n",
       "    </tr>\n",
       "    <tr>\n",
       "      <th>1</th>\n",
       "      <td>Work evidence from really threat sign store see.</td>\n",
       "      <td>Michele Vallisneri &lt;Michele.Vallisneri@jpl.nas...</td>\n",
       "      <td>\"Heather Hernandez\" &lt;patriciagarcia@garcia-car...</td>\n",
       "      <td>Mon, 26 Mar 2018 18:38:16 -0700</td>\n",
       "    </tr>\n",
       "    <tr>\n",
       "      <th>2</th>\n",
       "      <td>Lot where answer the law person.</td>\n",
       "      <td>\"Vallisneri, Michele (335S)\" &lt;michele.vallisne...</td>\n",
       "      <td>Bryce Dudley &lt;hailey63@frazier.com&gt;</td>\n",
       "      <td>Tue, 13 Feb 2018 22:54:50 +0000</td>\n",
       "    </tr>\n",
       "    <tr>\n",
       "      <th>3</th>\n",
       "      <td>Difference hotel yard.</td>\n",
       "      <td>\"Vallisneri, Michele (335S)\" &lt;Michele.Vallisne...</td>\n",
       "      <td>Kathryn Mathis &lt;josephrebecca@grimes.com&gt;</td>\n",
       "      <td>Fri, 26 Jan 2018 11:40:04 -0800</td>\n",
       "    </tr>\n",
       "    <tr>\n",
       "      <th>4</th>\n",
       "      <td>Long level mission energy candidate.</td>\n",
       "      <td>\"Vallisneri, Michele (335S)\" &lt;michele.vallisne...</td>\n",
       "      <td>\"Angela Mendoza\" &lt;rkhan@yahoo.com&gt;</td>\n",
       "      <td>Tue, 31 Oct 2017 00:13:00 +0000</td>\n",
       "    </tr>\n",
       "  </tbody>\n",
       "</table>\n",
       "</div>"
      ],
      "text/plain": [
       "                                            subject  \\\n",
       "0              Why control quickly exactly capital.   \n",
       "1  Work evidence from really threat sign store see.   \n",
       "2                  Lot where answer the law person.   \n",
       "3                            Difference hotel yard.   \n",
       "4              Long level mission energy candidate.   \n",
       "\n",
       "                                                from  \\\n",
       "0  \"Vallisneri, Michele (335S)\" <Michele.Vallisne...   \n",
       "1  Michele Vallisneri <Michele.Vallisneri@jpl.nas...   \n",
       "2  \"Vallisneri, Michele (335S)\" <michele.vallisne...   \n",
       "3  \"Vallisneri, Michele (335S)\" <Michele.Vallisne...   \n",
       "4  \"Vallisneri, Michele (335S)\" <michele.vallisne...   \n",
       "\n",
       "                                                  to  \\\n",
       "0          \"Trevor Charles\" <zrodriguez@hotmail.com>   \n",
       "1  \"Heather Hernandez\" <patriciagarcia@garcia-car...   \n",
       "2                Bryce Dudley <hailey63@frazier.com>   \n",
       "3          Kathryn Mathis <josephrebecca@grimes.com>   \n",
       "4                 \"Angela Mendoza\" <rkhan@yahoo.com>   \n",
       "\n",
       "                              date  \n",
       "0  Mon, 27 Nov 2017 14:18:46 -0800  \n",
       "1  Mon, 26 Mar 2018 18:38:16 -0700  \n",
       "2  Tue, 13 Feb 2018 22:54:50 +0000  \n",
       "3  Fri, 26 Jan 2018 11:40:04 -0800  \n",
       "4  Tue, 31 Oct 2017 00:13:00 +0000  "
      ]
     },
     "execution_count": 67,
     "metadata": {},
     "output_type": "execute_result"
    }
   ],
   "source": [
    "messages.head()"
   ]
  },
  {
   "cell_type": "code",
   "execution_count": 68,
   "metadata": {
    "ExecuteTime": {
     "end_time": "2020-04-14T19:06:06.149164Z",
     "start_time": "2020-04-14T19:06:05.977154Z"
    }
   },
   "outputs": [
    {
     "data": {
      "text/plain": [
       "'\"Vallisneri, Michele (335S)\" <Michele.Vallisneri@jpl.nasa.gov>'"
      ]
     },
     "execution_count": 68,
     "metadata": {},
     "output_type": "execute_result"
    }
   ],
   "source": [
    "messages['from'][0]"
   ]
  },
  {
   "cell_type": "code",
   "execution_count": 69,
   "metadata": {
    "ExecuteTime": {
     "end_time": "2020-04-14T19:06:06.327174Z",
     "start_time": "2020-04-14T19:06:06.153164Z"
    }
   },
   "outputs": [
    {
     "data": {
      "text/plain": [
       "<_sre.SRE_Match object; span=(29, 62), match='<Michele.Vallisneri@jpl.nasa.gov>'>"
      ]
     },
     "execution_count": 69,
     "metadata": {},
     "output_type": "execute_result"
    }
   ],
   "source": [
    "re.search('<(.+)>',messages['from'][0])"
   ]
  },
  {
   "cell_type": "code",
   "execution_count": 70,
   "metadata": {
    "ExecuteTime": {
     "end_time": "2020-04-14T19:06:06.487183Z",
     "start_time": "2020-04-14T19:06:06.340175Z"
    }
   },
   "outputs": [
    {
     "data": {
      "text/plain": [
       "'<Michele.Vallisneri@jpl.nasa.gov>'"
      ]
     },
     "execution_count": 70,
     "metadata": {},
     "output_type": "execute_result"
    }
   ],
   "source": [
    "re.search('<(.+)>',messages['from'][0]).group(0)"
   ]
  },
  {
   "cell_type": "code",
   "execution_count": 71,
   "metadata": {
    "ExecuteTime": {
     "end_time": "2020-04-14T19:06:06.657193Z",
     "start_time": "2020-04-14T19:06:06.498184Z"
    }
   },
   "outputs": [
    {
     "data": {
      "text/plain": [
       "'Michele.Vallisneri@jpl.nasa.gov'"
      ]
     },
     "execution_count": 71,
     "metadata": {},
     "output_type": "execute_result"
    }
   ],
   "source": [
    "re.search('<(.+)>',messages['from'][0]).group(1)"
   ]
  },
  {
   "cell_type": "code",
   "execution_count": 72,
   "metadata": {
    "ExecuteTime": {
     "end_time": "2020-04-14T19:06:06.809202Z",
     "start_time": "2020-04-14T19:06:06.668194Z"
    },
    "collapsed": true
   },
   "outputs": [],
   "source": [
    "def clean_address(raw):\n",
    "    match = re.search('<(.+)>',raw)\n",
    "    \n",
    "    if match is None:\n",
    "        return raw\n",
    "    else:\n",
    "        return match.group(1)"
   ]
  },
  {
   "cell_type": "code",
   "execution_count": 73,
   "metadata": {
    "ExecuteTime": {
     "end_time": "2020-04-14T19:06:06.982212Z",
     "start_time": "2020-04-14T19:06:06.819202Z"
    }
   },
   "outputs": [
    {
     "data": {
      "text/plain": [
       "'Michele.Vallisneri@jpl.nasa.gov'"
      ]
     },
     "execution_count": 73,
     "metadata": {},
     "output_type": "execute_result"
    }
   ],
   "source": [
    "clean_address(messages['from'][0])"
   ]
  },
  {
   "cell_type": "code",
   "execution_count": null,
   "metadata": {
    "deletable": false,
    "editable": false,
    "run_control": {
     "frozen": true
    }
   },
   "outputs": [],
   "source": [
    "messages['from'] = messages['from'].apply(clean_address)"
   ]
  },
  {
   "cell_type": "code",
   "execution_count": null,
   "metadata": {
    "deletable": false,
    "editable": false,
    "run_control": {
     "frozen": true
    }
   },
   "outputs": [],
   "source": [
    "%debug\n"
   ]
  },
  {
   "cell_type": "code",
   "execution_count": 74,
   "metadata": {
    "ExecuteTime": {
     "end_time": "2020-04-14T19:06:07.168222Z",
     "start_time": "2020-04-14T19:06:06.990212Z"
    },
    "collapsed": true
   },
   "outputs": [],
   "source": [
    "messages['from'] = messages['from'].dropna().apply(clean_address)\n",
    "messages['to'] = messages['to'].dropna().apply(clean_address)"
   ]
  },
  {
   "cell_type": "code",
   "execution_count": 75,
   "metadata": {
    "ExecuteTime": {
     "end_time": "2020-04-14T19:06:07.357233Z",
     "start_time": "2020-04-14T19:06:07.177223Z"
    }
   },
   "outputs": [
    {
     "data": {
      "text/html": [
       "<div>\n",
       "<style scoped>\n",
       "    .dataframe tbody tr th:only-of-type {\n",
       "        vertical-align: middle;\n",
       "    }\n",
       "\n",
       "    .dataframe tbody tr th {\n",
       "        vertical-align: top;\n",
       "    }\n",
       "\n",
       "    .dataframe thead th {\n",
       "        text-align: right;\n",
       "    }\n",
       "</style>\n",
       "<table border=\"1\" class=\"dataframe\">\n",
       "  <thead>\n",
       "    <tr style=\"text-align: right;\">\n",
       "      <th></th>\n",
       "      <th>subject</th>\n",
       "      <th>from</th>\n",
       "      <th>to</th>\n",
       "      <th>date</th>\n",
       "    </tr>\n",
       "  </thead>\n",
       "  <tbody>\n",
       "    <tr>\n",
       "      <th>0</th>\n",
       "      <td>Why control quickly exactly capital.</td>\n",
       "      <td>Michele.Vallisneri@jpl.nasa.gov</td>\n",
       "      <td>zrodriguez@hotmail.com</td>\n",
       "      <td>Mon, 27 Nov 2017 14:18:46 -0800</td>\n",
       "    </tr>\n",
       "    <tr>\n",
       "      <th>1</th>\n",
       "      <td>Work evidence from really threat sign store see.</td>\n",
       "      <td>Michele.Vallisneri@jpl.nasa.gov</td>\n",
       "      <td>patriciagarcia@garcia-carney.com</td>\n",
       "      <td>Mon, 26 Mar 2018 18:38:16 -0700</td>\n",
       "    </tr>\n",
       "    <tr>\n",
       "      <th>2</th>\n",
       "      <td>Lot where answer the law person.</td>\n",
       "      <td>michele.vallisneri@jpl.nasa.gov</td>\n",
       "      <td>hailey63@frazier.com</td>\n",
       "      <td>Tue, 13 Feb 2018 22:54:50 +0000</td>\n",
       "    </tr>\n",
       "    <tr>\n",
       "      <th>3</th>\n",
       "      <td>Difference hotel yard.</td>\n",
       "      <td>Michele.Vallisneri@jpl.nasa.gov</td>\n",
       "      <td>josephrebecca@grimes.com</td>\n",
       "      <td>Fri, 26 Jan 2018 11:40:04 -0800</td>\n",
       "    </tr>\n",
       "    <tr>\n",
       "      <th>4</th>\n",
       "      <td>Long level mission energy candidate.</td>\n",
       "      <td>michele.vallisneri@jpl.nasa.gov</td>\n",
       "      <td>rkhan@yahoo.com</td>\n",
       "      <td>Tue, 31 Oct 2017 00:13:00 +0000</td>\n",
       "    </tr>\n",
       "  </tbody>\n",
       "</table>\n",
       "</div>"
      ],
      "text/plain": [
       "                                            subject  \\\n",
       "0              Why control quickly exactly capital.   \n",
       "1  Work evidence from really threat sign store see.   \n",
       "2                  Lot where answer the law person.   \n",
       "3                            Difference hotel yard.   \n",
       "4              Long level mission energy candidate.   \n",
       "\n",
       "                              from                                to  \\\n",
       "0  Michele.Vallisneri@jpl.nasa.gov            zrodriguez@hotmail.com   \n",
       "1  Michele.Vallisneri@jpl.nasa.gov  patriciagarcia@garcia-carney.com   \n",
       "2  michele.vallisneri@jpl.nasa.gov              hailey63@frazier.com   \n",
       "3  Michele.Vallisneri@jpl.nasa.gov          josephrebecca@grimes.com   \n",
       "4  michele.vallisneri@jpl.nasa.gov                   rkhan@yahoo.com   \n",
       "\n",
       "                              date  \n",
       "0  Mon, 27 Nov 2017 14:18:46 -0800  \n",
       "1  Mon, 26 Mar 2018 18:38:16 -0700  \n",
       "2  Tue, 13 Feb 2018 22:54:50 +0000  \n",
       "3  Fri, 26 Jan 2018 11:40:04 -0800  \n",
       "4  Tue, 31 Oct 2017 00:13:00 +0000  "
      ]
     },
     "execution_count": 75,
     "metadata": {},
     "output_type": "execute_result"
    }
   ],
   "source": [
    "messages.head()"
   ]
  },
  {
   "cell_type": "code",
   "execution_count": 76,
   "metadata": {
    "ExecuteTime": {
     "end_time": "2020-04-14T19:06:07.536243Z",
     "start_time": "2020-04-14T19:06:07.367234Z"
    }
   },
   "outputs": [
    {
     "data": {
      "text/plain": [
       "'Mon, 27 Nov 2017 14:18:46 -0800'"
      ]
     },
     "execution_count": 76,
     "metadata": {},
     "output_type": "execute_result"
    }
   ],
   "source": [
    "messages['date'][0]"
   ]
  },
  {
   "cell_type": "code",
   "execution_count": 77,
   "metadata": {
    "ExecuteTime": {
     "end_time": "2020-04-14T19:06:07.821260Z",
     "start_time": "2020-04-14T19:06:07.547244Z"
    }
   },
   "outputs": [
    {
     "data": {
      "text/plain": [
       "Timestamp('2017-11-27 14:18:46-0800', tz='pytz.FixedOffset(-480)')"
      ]
     },
     "execution_count": 77,
     "metadata": {},
     "output_type": "execute_result"
    }
   ],
   "source": [
    "pd.to_datetime(messages['date'][0])"
   ]
  },
  {
   "cell_type": "code",
   "execution_count": 78,
   "metadata": {
    "ExecuteTime": {
     "end_time": "2020-04-14T19:06:10.082389Z",
     "start_time": "2020-04-14T19:06:07.835260Z"
    }
   },
   "outputs": [],
   "source": [
    "messages['date'] = messages['date'].apply(lambda s: pd.to_datetime(s,utc=True))"
   ]
  },
  {
   "cell_type": "code",
   "execution_count": 79,
   "metadata": {
    "ExecuteTime": {
     "end_time": "2020-04-14T19:06:10.110391Z",
     "start_time": "2020-04-14T19:06:10.087389Z"
    }
   },
   "outputs": [
    {
     "data": {
      "text/plain": [
       "0   2017-11-27 22:18:46+00:00\n",
       "1   2018-03-27 01:38:16+00:00\n",
       "2   2018-02-13 22:54:50+00:00\n",
       "3   2018-01-26 19:40:04+00:00\n",
       "4   2017-10-31 00:13:00+00:00\n",
       "Name: date, dtype: datetime64[ns, UTC]"
      ]
     },
     "execution_count": 79,
     "metadata": {},
     "output_type": "execute_result"
    }
   ],
   "source": [
    "messages.date.head()"
   ]
  },
  {
   "cell_type": "code",
   "execution_count": 80,
   "metadata": {
    "ExecuteTime": {
     "end_time": "2020-04-14T19:06:10.129392Z",
     "start_time": "2020-04-14T19:06:10.114391Z"
    }
   },
   "outputs": [
    {
     "data": {
      "text/plain": [
       "(Timestamp('2017-07-01 06:26:52+0000', tz='UTC'),\n",
       " Timestamp('2018-05-13 15:40:20+0000', tz='UTC'))"
      ]
     },
     "execution_count": 80,
     "metadata": {},
     "output_type": "execute_result"
    }
   ],
   "source": [
    "messages.date.min(), messages.date.max()"
   ]
  },
  {
   "cell_type": "code",
   "execution_count": 81,
   "metadata": {
    "ExecuteTime": {
     "end_time": "2020-04-14T19:06:10.181395Z",
     "start_time": "2020-04-14T19:06:10.134392Z"
    }
   },
   "outputs": [
    {
     "data": {
      "text/plain": [
       "0     Monday\n",
       "1    Tuesday\n",
       "2    Tuesday\n",
       "3     Friday\n",
       "4    Tuesday\n",
       "Name: date, dtype: object"
      ]
     },
     "execution_count": 81,
     "metadata": {},
     "output_type": "execute_result"
    }
   ],
   "source": [
    "messages.date.dt.weekday_name.head()"
   ]
  },
  {
   "cell_type": "code",
   "execution_count": 86,
   "metadata": {
    "ExecuteTime": {
     "end_time": "2020-04-14T20:05:13.103038Z",
     "start_time": "2020-04-14T20:05:13.071036Z"
    },
    "collapsed": true
   },
   "outputs": [],
   "source": [
    "messages['dayofweek'] = pd.Categorical(messages['date'].dt.weekday_name,\n",
    "                                       ordered=True,\n",
    "                                       categories=['Monday','Tuesday','Wednesday','Thursday','Friday','Saturday','Sunday'])"
   ]
  },
  {
   "cell_type": "code",
   "execution_count": 87,
   "metadata": {
    "ExecuteTime": {
     "end_time": "2020-04-14T20:12:35.614348Z",
     "start_time": "2020-04-14T20:12:35.592347Z"
    }
   },
   "outputs": [
    {
     "data": {
      "text/html": [
       "<div>\n",
       "<style scoped>\n",
       "    .dataframe tbody tr th:only-of-type {\n",
       "        vertical-align: middle;\n",
       "    }\n",
       "\n",
       "    .dataframe tbody tr th {\n",
       "        vertical-align: top;\n",
       "    }\n",
       "\n",
       "    .dataframe thead th {\n",
       "        text-align: right;\n",
       "    }\n",
       "</style>\n",
       "<table border=\"1\" class=\"dataframe\">\n",
       "  <thead>\n",
       "    <tr style=\"text-align: right;\">\n",
       "      <th></th>\n",
       "      <th>subject</th>\n",
       "      <th>from</th>\n",
       "      <th>to</th>\n",
       "      <th>date</th>\n",
       "      <th>dayofweek</th>\n",
       "    </tr>\n",
       "  </thead>\n",
       "  <tbody>\n",
       "    <tr>\n",
       "      <th>0</th>\n",
       "      <td>Why control quickly exactly capital.</td>\n",
       "      <td>Michele.Vallisneri@jpl.nasa.gov</td>\n",
       "      <td>zrodriguez@hotmail.com</td>\n",
       "      <td>2017-11-27 22:18:46+00:00</td>\n",
       "      <td>Monday</td>\n",
       "    </tr>\n",
       "    <tr>\n",
       "      <th>1</th>\n",
       "      <td>Work evidence from really threat sign store see.</td>\n",
       "      <td>Michele.Vallisneri@jpl.nasa.gov</td>\n",
       "      <td>patriciagarcia@garcia-carney.com</td>\n",
       "      <td>2018-03-27 01:38:16+00:00</td>\n",
       "      <td>Tuesday</td>\n",
       "    </tr>\n",
       "    <tr>\n",
       "      <th>2</th>\n",
       "      <td>Lot where answer the law person.</td>\n",
       "      <td>michele.vallisneri@jpl.nasa.gov</td>\n",
       "      <td>hailey63@frazier.com</td>\n",
       "      <td>2018-02-13 22:54:50+00:00</td>\n",
       "      <td>Tuesday</td>\n",
       "    </tr>\n",
       "    <tr>\n",
       "      <th>3</th>\n",
       "      <td>Difference hotel yard.</td>\n",
       "      <td>Michele.Vallisneri@jpl.nasa.gov</td>\n",
       "      <td>josephrebecca@grimes.com</td>\n",
       "      <td>2018-01-26 19:40:04+00:00</td>\n",
       "      <td>Friday</td>\n",
       "    </tr>\n",
       "    <tr>\n",
       "      <th>4</th>\n",
       "      <td>Long level mission energy candidate.</td>\n",
       "      <td>michele.vallisneri@jpl.nasa.gov</td>\n",
       "      <td>rkhan@yahoo.com</td>\n",
       "      <td>2017-10-31 00:13:00+00:00</td>\n",
       "      <td>Tuesday</td>\n",
       "    </tr>\n",
       "  </tbody>\n",
       "</table>\n",
       "</div>"
      ],
      "text/plain": [
       "                                            subject  \\\n",
       "0              Why control quickly exactly capital.   \n",
       "1  Work evidence from really threat sign store see.   \n",
       "2                  Lot where answer the law person.   \n",
       "3                            Difference hotel yard.   \n",
       "4              Long level mission energy candidate.   \n",
       "\n",
       "                              from                                to  \\\n",
       "0  Michele.Vallisneri@jpl.nasa.gov            zrodriguez@hotmail.com   \n",
       "1  Michele.Vallisneri@jpl.nasa.gov  patriciagarcia@garcia-carney.com   \n",
       "2  michele.vallisneri@jpl.nasa.gov              hailey63@frazier.com   \n",
       "3  Michele.Vallisneri@jpl.nasa.gov          josephrebecca@grimes.com   \n",
       "4  michele.vallisneri@jpl.nasa.gov                   rkhan@yahoo.com   \n",
       "\n",
       "                       date dayofweek  \n",
       "0 2017-11-27 22:18:46+00:00    Monday  \n",
       "1 2018-03-27 01:38:16+00:00   Tuesday  \n",
       "2 2018-02-13 22:54:50+00:00   Tuesday  \n",
       "3 2018-01-26 19:40:04+00:00    Friday  \n",
       "4 2017-10-31 00:13:00+00:00   Tuesday  "
      ]
     },
     "execution_count": 87,
     "metadata": {},
     "output_type": "execute_result"
    }
   ],
   "source": [
    "messages.head()"
   ]
  },
  {
   "cell_type": "code",
   "execution_count": 88,
   "metadata": {
    "ExecuteTime": {
     "end_time": "2020-04-14T20:14:08.969688Z",
     "start_time": "2020-04-14T20:14:07.487603Z"
    },
    "collapsed": true
   },
   "outputs": [],
   "source": [
    "messages['timeofday'] = messages['date'].dt.hour + messages['date'].dt.minute / 60"
   ]
  },
  {
   "cell_type": "code",
   "execution_count": 89,
   "metadata": {
    "ExecuteTime": {
     "end_time": "2020-04-14T20:14:19.627298Z",
     "start_time": "2020-04-14T20:14:19.586295Z"
    }
   },
   "outputs": [
    {
     "data": {
      "text/html": [
       "<div>\n",
       "<style scoped>\n",
       "    .dataframe tbody tr th:only-of-type {\n",
       "        vertical-align: middle;\n",
       "    }\n",
       "\n",
       "    .dataframe tbody tr th {\n",
       "        vertical-align: top;\n",
       "    }\n",
       "\n",
       "    .dataframe thead th {\n",
       "        text-align: right;\n",
       "    }\n",
       "</style>\n",
       "<table border=\"1\" class=\"dataframe\">\n",
       "  <thead>\n",
       "    <tr style=\"text-align: right;\">\n",
       "      <th></th>\n",
       "      <th>subject</th>\n",
       "      <th>from</th>\n",
       "      <th>to</th>\n",
       "      <th>date</th>\n",
       "      <th>dayofweek</th>\n",
       "      <th>timeofday</th>\n",
       "    </tr>\n",
       "  </thead>\n",
       "  <tbody>\n",
       "    <tr>\n",
       "      <th>0</th>\n",
       "      <td>Why control quickly exactly capital.</td>\n",
       "      <td>Michele.Vallisneri@jpl.nasa.gov</td>\n",
       "      <td>zrodriguez@hotmail.com</td>\n",
       "      <td>2017-11-27 22:18:46+00:00</td>\n",
       "      <td>Monday</td>\n",
       "      <td>22.300000</td>\n",
       "    </tr>\n",
       "    <tr>\n",
       "      <th>1</th>\n",
       "      <td>Work evidence from really threat sign store see.</td>\n",
       "      <td>Michele.Vallisneri@jpl.nasa.gov</td>\n",
       "      <td>patriciagarcia@garcia-carney.com</td>\n",
       "      <td>2018-03-27 01:38:16+00:00</td>\n",
       "      <td>Tuesday</td>\n",
       "      <td>1.633333</td>\n",
       "    </tr>\n",
       "    <tr>\n",
       "      <th>2</th>\n",
       "      <td>Lot where answer the law person.</td>\n",
       "      <td>michele.vallisneri@jpl.nasa.gov</td>\n",
       "      <td>hailey63@frazier.com</td>\n",
       "      <td>2018-02-13 22:54:50+00:00</td>\n",
       "      <td>Tuesday</td>\n",
       "      <td>22.900000</td>\n",
       "    </tr>\n",
       "    <tr>\n",
       "      <th>3</th>\n",
       "      <td>Difference hotel yard.</td>\n",
       "      <td>Michele.Vallisneri@jpl.nasa.gov</td>\n",
       "      <td>josephrebecca@grimes.com</td>\n",
       "      <td>2018-01-26 19:40:04+00:00</td>\n",
       "      <td>Friday</td>\n",
       "      <td>19.666667</td>\n",
       "    </tr>\n",
       "    <tr>\n",
       "      <th>4</th>\n",
       "      <td>Long level mission energy candidate.</td>\n",
       "      <td>michele.vallisneri@jpl.nasa.gov</td>\n",
       "      <td>rkhan@yahoo.com</td>\n",
       "      <td>2017-10-31 00:13:00+00:00</td>\n",
       "      <td>Tuesday</td>\n",
       "      <td>0.216667</td>\n",
       "    </tr>\n",
       "  </tbody>\n",
       "</table>\n",
       "</div>"
      ],
      "text/plain": [
       "                                            subject  \\\n",
       "0              Why control quickly exactly capital.   \n",
       "1  Work evidence from really threat sign store see.   \n",
       "2                  Lot where answer the law person.   \n",
       "3                            Difference hotel yard.   \n",
       "4              Long level mission energy candidate.   \n",
       "\n",
       "                              from                                to  \\\n",
       "0  Michele.Vallisneri@jpl.nasa.gov            zrodriguez@hotmail.com   \n",
       "1  Michele.Vallisneri@jpl.nasa.gov  patriciagarcia@garcia-carney.com   \n",
       "2  michele.vallisneri@jpl.nasa.gov              hailey63@frazier.com   \n",
       "3  Michele.Vallisneri@jpl.nasa.gov          josephrebecca@grimes.com   \n",
       "4  michele.vallisneri@jpl.nasa.gov                   rkhan@yahoo.com   \n",
       "\n",
       "                       date dayofweek  timeofday  \n",
       "0 2017-11-27 22:18:46+00:00    Monday  22.300000  \n",
       "1 2018-03-27 01:38:16+00:00   Tuesday   1.633333  \n",
       "2 2018-02-13 22:54:50+00:00   Tuesday  22.900000  \n",
       "3 2018-01-26 19:40:04+00:00    Friday  19.666667  \n",
       "4 2017-10-31 00:13:00+00:00   Tuesday   0.216667  "
      ]
     },
     "execution_count": 89,
     "metadata": {},
     "output_type": "execute_result"
    }
   ],
   "source": [
    "messages.head()"
   ]
  },
  {
   "cell_type": "code",
   "execution_count": 90,
   "metadata": {
    "ExecuteTime": {
     "end_time": "2020-04-14T20:15:32.737479Z",
     "start_time": "2020-04-14T20:15:32.676476Z"
    },
    "collapsed": true
   },
   "outputs": [],
   "source": [
    "messages['nyear'] = messages['date'].dt.year + messages['date'].dt.dayofyear/365.25 + messages['timeofday']/24/365.25 "
   ]
  },
  {
   "cell_type": "code",
   "execution_count": 91,
   "metadata": {
    "ExecuteTime": {
     "end_time": "2020-04-14T20:15:41.442977Z",
     "start_time": "2020-04-14T20:15:41.375973Z"
    }
   },
   "outputs": [
    {
     "data": {
      "text/html": [
       "<div>\n",
       "<style scoped>\n",
       "    .dataframe tbody tr th:only-of-type {\n",
       "        vertical-align: middle;\n",
       "    }\n",
       "\n",
       "    .dataframe tbody tr th {\n",
       "        vertical-align: top;\n",
       "    }\n",
       "\n",
       "    .dataframe thead th {\n",
       "        text-align: right;\n",
       "    }\n",
       "</style>\n",
       "<table border=\"1\" class=\"dataframe\">\n",
       "  <thead>\n",
       "    <tr style=\"text-align: right;\">\n",
       "      <th></th>\n",
       "      <th>subject</th>\n",
       "      <th>from</th>\n",
       "      <th>to</th>\n",
       "      <th>date</th>\n",
       "      <th>dayofweek</th>\n",
       "      <th>timeofday</th>\n",
       "      <th>nyear</th>\n",
       "    </tr>\n",
       "  </thead>\n",
       "  <tbody>\n",
       "    <tr>\n",
       "      <th>0</th>\n",
       "      <td>Why control quickly exactly capital.</td>\n",
       "      <td>Michele.Vallisneri@jpl.nasa.gov</td>\n",
       "      <td>zrodriguez@hotmail.com</td>\n",
       "      <td>2017-11-27 22:18:46+00:00</td>\n",
       "      <td>Monday</td>\n",
       "      <td>22.300000</td>\n",
       "      <td>2017.908773</td>\n",
       "    </tr>\n",
       "    <tr>\n",
       "      <th>1</th>\n",
       "      <td>Work evidence from really threat sign store see.</td>\n",
       "      <td>Michele.Vallisneri@jpl.nasa.gov</td>\n",
       "      <td>patriciagarcia@garcia-carney.com</td>\n",
       "      <td>2018-03-27 01:38:16+00:00</td>\n",
       "      <td>Tuesday</td>\n",
       "      <td>1.633333</td>\n",
       "      <td>2018.235641</td>\n",
       "    </tr>\n",
       "    <tr>\n",
       "      <th>2</th>\n",
       "      <td>Lot where answer the law person.</td>\n",
       "      <td>michele.vallisneri@jpl.nasa.gov</td>\n",
       "      <td>hailey63@frazier.com</td>\n",
       "      <td>2018-02-13 22:54:50+00:00</td>\n",
       "      <td>Tuesday</td>\n",
       "      <td>22.900000</td>\n",
       "      <td>2018.123078</td>\n",
       "    </tr>\n",
       "    <tr>\n",
       "      <th>3</th>\n",
       "      <td>Difference hotel yard.</td>\n",
       "      <td>Michele.Vallisneri@jpl.nasa.gov</td>\n",
       "      <td>josephrebecca@grimes.com</td>\n",
       "      <td>2018-01-26 19:40:04+00:00</td>\n",
       "      <td>Friday</td>\n",
       "      <td>19.666667</td>\n",
       "      <td>2018.073428</td>\n",
       "    </tr>\n",
       "    <tr>\n",
       "      <th>4</th>\n",
       "      <td>Long level mission energy candidate.</td>\n",
       "      <td>michele.vallisneri@jpl.nasa.gov</td>\n",
       "      <td>rkhan@yahoo.com</td>\n",
       "      <td>2017-10-31 00:13:00+00:00</td>\n",
       "      <td>Tuesday</td>\n",
       "      <td>0.216667</td>\n",
       "      <td>2017.832331</td>\n",
       "    </tr>\n",
       "  </tbody>\n",
       "</table>\n",
       "</div>"
      ],
      "text/plain": [
       "                                            subject  \\\n",
       "0              Why control quickly exactly capital.   \n",
       "1  Work evidence from really threat sign store see.   \n",
       "2                  Lot where answer the law person.   \n",
       "3                            Difference hotel yard.   \n",
       "4              Long level mission energy candidate.   \n",
       "\n",
       "                              from                                to  \\\n",
       "0  Michele.Vallisneri@jpl.nasa.gov            zrodriguez@hotmail.com   \n",
       "1  Michele.Vallisneri@jpl.nasa.gov  patriciagarcia@garcia-carney.com   \n",
       "2  michele.vallisneri@jpl.nasa.gov              hailey63@frazier.com   \n",
       "3  Michele.Vallisneri@jpl.nasa.gov          josephrebecca@grimes.com   \n",
       "4  michele.vallisneri@jpl.nasa.gov                   rkhan@yahoo.com   \n",
       "\n",
       "                       date dayofweek  timeofday        nyear  \n",
       "0 2017-11-27 22:18:46+00:00    Monday  22.300000  2017.908773  \n",
       "1 2018-03-27 01:38:16+00:00   Tuesday   1.633333  2018.235641  \n",
       "2 2018-02-13 22:54:50+00:00   Tuesday  22.900000  2018.123078  \n",
       "3 2018-01-26 19:40:04+00:00    Friday  19.666667  2018.073428  \n",
       "4 2017-10-31 00:13:00+00:00   Tuesday   0.216667  2017.832331  "
      ]
     },
     "execution_count": 91,
     "metadata": {},
     "output_type": "execute_result"
    }
   ],
   "source": [
    "messages.head()"
   ]
  },
  {
   "cell_type": "code",
   "execution_count": 92,
   "metadata": {
    "ExecuteTime": {
     "end_time": "2020-04-14T20:16:42.468468Z",
     "start_time": "2020-04-14T20:16:39.531300Z"
    }
   },
   "outputs": [
    {
     "data": {
      "text/plain": [
       "<matplotlib.axes._subplots.AxesSubplot at 0xb9c4a20>"
      ]
     },
     "execution_count": 92,
     "metadata": {},
     "output_type": "execute_result"
    },
    {
     "data": {
      "image/png": "[encoded data removed]",
      "text/plain": [
       "<Figure size 432x288 with 1 Axes>"
      ]
     },
     "metadata": {},
     "output_type": "display_data"
    }
   ],
   "source": [
    "messages.plot.scatter('nyear','timeofday',s=2)"
   ]
  },
  {
   "cell_type": "code",
   "execution_count": 93,
   "metadata": {
    "ExecuteTime": {
     "end_time": "2020-04-14T20:17:21.129679Z",
     "start_time": "2020-04-14T20:17:20.670653Z"
    }
   },
   "outputs": [
    {
     "data": {
      "text/plain": [
       "<matplotlib.axes._subplots.AxesSubplot at 0xbd47240>"
      ]
     },
     "execution_count": 93,
     "metadata": {},
     "output_type": "execute_result"
    },
    {
     "data": {
      "image/png": "[encoded data removed]",
      "text/plain": [
       "<Figure size 432x288 with 1 Axes>"
      ]
     },
     "metadata": {},
     "output_type": "display_data"
    }
   ],
   "source": [
    "messages.nyear.hist()"
   ]
  },
  {
   "cell_type": "code",
   "execution_count": 94,
   "metadata": {
    "ExecuteTime": {
     "end_time": "2020-04-14T20:18:02.127024Z",
     "start_time": "2020-04-14T20:18:01.769003Z"
    }
   },
   "outputs": [
    {
     "data": {
      "text/plain": [
       "<matplotlib.axes._subplots.AxesSubplot at 0xbb46940>"
      ]
     },
     "execution_count": 94,
     "metadata": {},
     "output_type": "execute_result"
    },
    {
     "data": {
      "image/png": "[encoded data removed]",
      "text/plain": [
       "<Figure size 432x288 with 1 Axes>"
      ]
     },
     "metadata": {},
     "output_type": "display_data"
    }
   ],
   "source": [
    "messages.timeofday.hist()"
   ]
  },
  {
   "cell_type": "code",
   "execution_count": 95,
   "metadata": {
    "ExecuteTime": {
     "end_time": "2020-04-14T20:18:30.581651Z",
     "start_time": "2020-04-14T20:18:30.369639Z"
    }
   },
   "outputs": [
    {
     "data": {
      "text/plain": [
       "Tuesday      227\n",
       "Wednesday    222\n",
       "Thursday     189\n",
       "Monday       164\n",
       "Friday       157\n",
       "Saturday      51\n",
       "Sunday        20\n",
       "Name: dayofweek, dtype: int64"
      ]
     },
     "execution_count": 95,
     "metadata": {},
     "output_type": "execute_result"
    }
   ],
   "source": [
    "messages.dayofweek.value_counts()"
   ]
  },
  {
   "cell_type": "code",
   "execution_count": 97,
   "metadata": {
    "ExecuteTime": {
     "end_time": "2020-04-14T20:19:40.685661Z",
     "start_time": "2020-04-14T20:19:40.409645Z"
    }
   },
   "outputs": [
    {
     "data": {
      "text/plain": [
       "<matplotlib.axes._subplots.AxesSubplot at 0xbbb2d68>"
      ]
     },
     "execution_count": 97,
     "metadata": {},
     "output_type": "execute_result"
    },
    {
     "data": {
      "image/png": "[encoded data removed]",
      "text/plain": [
       "<Figure size 432x288 with 1 Axes>"
      ]
     },
     "metadata": {},
     "output_type": "display_data"
    }
   ],
   "source": [
    "counts = messages.dayofweek.value_counts(sort=False)\n",
    "counts.plot(kind='bar')"
   ]
  },
  {
   "cell_type": "code",
   "execution_count": null,
   "metadata": {
    "collapsed": true
   },
   "outputs": [],
   "source": []
  }
 ],
 "metadata": {
  "hide_input": false,
  "kernelspec": {
   "display_name": "Python 3",
   "language": "python",
   "name": "python3"
  },
  "language_info": {
   "codemirror_mode": {
    "name": "ipython",
    "version": 3
   },
   "file_extension": ".py",
   "mimetype": "text/x-python",
   "name": "python",
   "nbconvert_exporter": "python",
   "pygments_lexer": "ipython3",
   "version": "3.6.3"
  },
  "latex_envs": {
   "LaTeX_envs_menu_present": true,
   "autoclose": false,
   "autocomplete": true,
   "bibliofile": "biblio.bib",
   "cite_by": "apalike",
   "current_citInitial": 1,
   "eqLabelWithNumbers": true,
   "eqNumInitial": 1,
   "hotkeys": {
    "equation": "Ctrl-E",
    "itemize": "Ctrl-I"
   },
   "labels_anchors": false,
   "latex_user_defs": false,
   "report_style_numbering": false,
   "user_envs_cfg": false
  },
  "toc": {
   "base_numbering": 1,
   "nav_menu": {},
   "number_sections": true,
   "sideBar": true,
   "skip_h1_title": false,
   "title_cell": "Table of Contents",
   "title_sidebar": "Contents",
   "toc_cell": false,
   "toc_position": {},
   "toc_section_display": true,
   "toc_window_display": false
  },
  "varInspector": {
   "cols": {
    "lenName": 16,
    "lenType": 16,
    "lenVar": 40
   },
   "kernels_config": {
    "python": {
     "delete_cmd_postfix": "",
     "delete_cmd_prefix": "del ",
     "library": "var_list.py",
     "varRefreshCmd": "print(var_dic_list())"
    },
    "r": {
     "delete_cmd_postfix": ") ",
     "delete_cmd_prefix": "rm(",
     "library": "var_list.r",
     "varRefreshCmd": "cat(var_dic_list()) "
    }
   },
   "types_to_exclude": [
    "module",
    "function",
    "builtin_function_or_method",
    "instance",
    "_Feature"
   ],
   "window_display": false
  }
 },
 "nbformat": 4,
 "nbformat_minor": 2
}
